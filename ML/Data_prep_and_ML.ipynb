{
  "nbformat": 4,
  "nbformat_minor": 0,
  "metadata": {
    "colab": {
      "name": "PA-4ESGI.ipynb",
      "provenance": [],
      "collapsed_sections": []
    },
    "kernelspec": {
      "name": "python3",
      "display_name": "Python 3"
    },
    "language_info": {
      "name": "python"
    }
  },
  "cells": [
    {
      "cell_type": "markdown",
      "metadata": {
        "id": "yk0wAkHLckLa"
      },
      "source": [
        "# Data clean - preparation - MyImmo"
      ]
    },
    {
      "cell_type": "code",
      "metadata": {
        "colab": {
          "base_uri": "https://localhost:8080/"
        },
        "id": "T03OS2hHhOdB",
        "outputId": "5ec0359e-1741-4b64-de1d-78d637385ca0"
      },
      "source": [
        "from google.colab import drive\n",
        "drive.mount('/content/drive')"
      ],
      "execution_count": 1,
      "outputs": [
        {
          "output_type": "stream",
          "text": [
            "Mounted at /content/drive\n"
          ],
          "name": "stdout"
        }
      ]
    },
    {
      "cell_type": "markdown",
      "metadata": {
        "id": "mhJV4wTJclWd"
      },
      "source": [
        "### Téléchargement des fichiers csv"
      ]
    },
    {
      "cell_type": "code",
      "metadata": {
        "id": "EzD7z2AJVxS2"
      },
      "source": [
        "import urllib.request\n",
        "def download_files_etalab():\n",
        "  years_files = ['2014', '2015', '2016', '2017', '2018', '2019', '2020']\n",
        "  for year in years_files:\n",
        "    url_files = \"https://cadastre.data.gouv.fr/data/etalab-dvf/latest/csv/\" + year + \"/full.csv.gz\"\n",
        "    name_file = \"full-\" + year +\".csv.gz\"\n",
        "    path_file = '/home/' + name_file\n",
        "    urllib.request.urlretrieve(url_files, path_file)"
      ],
      "execution_count": 2,
      "outputs": []
    },
    {
      "cell_type": "code",
      "metadata": {
        "id": "GzFAMRwP02tn"
      },
      "source": [
        "download_files_etalab()"
      ],
      "execution_count": 3,
      "outputs": []
    },
    {
      "cell_type": "markdown",
      "metadata": {
        "id": "I_RSilxahbxb"
      },
      "source": [
        "### Traitement sur les données"
      ]
    },
    {
      "cell_type": "code",
      "metadata": {
        "id": "lRI70WVNnJXM"
      },
      "source": [
        "import pandas as pd\n",
        "import os"
      ],
      "execution_count": 2,
      "outputs": []
    },
    {
      "cell_type": "markdown",
      "metadata": {
        "id": "GHmvpGiYnA3U"
      },
      "source": [
        "Import des fichiers"
      ]
    },
    {
      "cell_type": "code",
      "metadata": {
        "id": "9iPF5Xd8WheB"
      },
      "source": [
        "def import_files_in_dict(year):\n",
        "  path_file = '/home/full-' + year + '.csv.gz'\n",
        "  df = pd.read_csv(path_file, compression='gzip')\n",
        "  return df"
      ],
      "execution_count": 5,
      "outputs": []
    },
    {
      "cell_type": "markdown",
      "metadata": {
        "id": "wgRkYw87ETIn"
      },
      "source": [
        "Clean data"
      ]
    },
    {
      "cell_type": "code",
      "metadata": {
        "id": "IyuqYJnA0b4V"
      },
      "source": [
        "def clean_data(df):\n",
        "  df = df[ (df['nature_mutation'] == 'Vente') | (df['nature_mutation'] == \"Vente en l'état futur d'achèvement\")]\n",
        "  df = df[ (df['valeur_fonciere'].notna()) & (df['valeur_fonciere'] != 0)]\n",
        "  df = df[ (df['surface_reelle_bati'].notna()) & (df['surface_reelle_bati'] != 0)]\n",
        "  df = df[ (df['longitude'].notna())]\n",
        "  df = df[ (df['latitude'].notna()) ]\n",
        "  df = df[ (df['nombre_lots'] == 0) ]\n",
        "  df = df[ (df['code_departement'].notna()) ]\n",
        "  return df"
      ],
      "execution_count": 6,
      "outputs": []
    },
    {
      "cell_type": "markdown",
      "metadata": {
        "id": "P82DT3nfGNk2"
      },
      "source": [
        "Traitement sur les données\n"
      ]
    },
    {
      "cell_type": "code",
      "metadata": {
        "id": "LwZbTJ7bibLj"
      },
      "source": [
        "file_regions = \"/content/drive/MyDrive/departments.csv\"\n",
        "regions = pd.read_csv(file_regions)"
      ],
      "execution_count": 7,
      "outputs": []
    },
    {
      "cell_type": "code",
      "metadata": {
        "id": "BTEA_yJnP75v"
      },
      "source": [
        "def group_by_data(df):\n",
        "  col_gp = ['id_mutation', 'date_mutation', 'nature_mutation', 'code_postal', 'code_commune', 'code_region', 'code_departement',\n",
        "            'type_local', 'latitude', 'longitude']\n",
        "  return df.groupby(col_gp, as_index=False).agg( { 'valeur_fonciere': 'max', 'surface_reelle_bati': 'max', 'nombre_pieces_principales': 'max'})"
      ],
      "execution_count": 8,
      "outputs": []
    },
    {
      "cell_type": "code",
      "metadata": {
        "colab": {
          "base_uri": "https://localhost:8080/",
          "height": 728
        },
        "id": "xeTiyqdqoME9",
        "outputId": "438756e4-3291-4b4d-e1b3-2cb754a5d5f9"
      },
      "source": [
        "output_data = ['id_mutation', 'date_mutation', 'nature_mutation',\n",
        "               'valeur_fonciere', 'code_postal', 'code_commune', 'code_region',\n",
        "               'code_departement', 'code_type_local', 'type_local',\n",
        "               'surface_reelle_bati', 'nombre_pieces_principales', 'latitude', 'longitude']\n",
        "years_files = ['2015', '2016', '2017', '2018', '2019', '2020']\n",
        "\n",
        "df_immo = [] \n",
        "for year in years_files:\n",
        "  df = import_files_in_dict(year)\n",
        "  df[\"code_departement\"] = df[\"code_departement\"].astype(str)\n",
        "  df[\"code_departement\"] = df[\"code_departement\"].apply(lambda x: '0' + x if len(x)==1 else x)\n",
        "  df = pd.merge(df, regions, how='left', left_on='code_departement', right_on='code')\n",
        "  df[\"code_region\"] = df[\"region_code\"]\n",
        "  df_clean = clean_data(df)\n",
        "  df_clean = df_clean[output_data]\n",
        "  df_clean = group_by_data(df_clean)\n",
        "  df_clean[\"prix_metre_carre\"] = (df_clean['valeur_fonciere']/df_clean['surface_reelle_bati']).apply(lambda x: round(x))\n",
        "  df_clean = df_clean.sort_values(['code_region', 'latitude','longitude'])\n",
        "  if len(df_immo) == 0:\n",
        "    df_immo = df_clean\n",
        "  else:\n",
        "    df_immo = pd.concat([df_immo, df_clean])\n",
        "df_immo"
      ],
      "execution_count": 9,
      "outputs": [
        {
          "output_type": "stream",
          "text": [
            "/usr/local/lib/python3.7/dist-packages/IPython/core/interactiveshell.py:2822: DtypeWarning: Columns (10,12,14,16,17,18,20,22,24,35,36) have mixed types.Specify dtype option on import or set low_memory=False.\n",
            "  if self.run_code(code, result):\n",
            "/usr/local/lib/python3.7/dist-packages/IPython/core/interactiveshell.py:2822: DtypeWarning: Columns (10,12,14,16,17,18,20,22,24,26,35,36) have mixed types.Specify dtype option on import or set low_memory=False.\n",
            "  if self.run_code(code, result):\n",
            "/usr/local/lib/python3.7/dist-packages/IPython/core/interactiveshell.py:2822: DtypeWarning: Columns (10,12,14,16,17,18,20,22,35,36) have mixed types.Specify dtype option on import or set low_memory=False.\n",
            "  if self.run_code(code, result):\n",
            "/usr/local/lib/python3.7/dist-packages/IPython/core/interactiveshell.py:2822: DtypeWarning: Columns (10,12,14,16,17,18,20,22,26,35,36) have mixed types.Specify dtype option on import or set low_memory=False.\n",
            "  if self.run_code(code, result):\n",
            "/usr/local/lib/python3.7/dist-packages/IPython/core/interactiveshell.py:2822: DtypeWarning: Columns (10,12,14,16,17,18,20,22,35,36) have mixed types.Specify dtype option on import or set low_memory=False.\n",
            "  if self.run_code(code, result):\n",
            "/usr/local/lib/python3.7/dist-packages/IPython/core/interactiveshell.py:2822: DtypeWarning: Columns (8,10,12,14,16,17,18,20,22,35,36) have mixed types.Specify dtype option on import or set low_memory=False.\n",
            "  if self.run_code(code, result):\n"
          ],
          "name": "stderr"
        },
        {
          "output_type": "execute_result",
          "data": {
            "text/html": [
              "<div>\n",
              "<style scoped>\n",
              "    .dataframe tbody tr th:only-of-type {\n",
              "        vertical-align: middle;\n",
              "    }\n",
              "\n",
              "    .dataframe tbody tr th {\n",
              "        vertical-align: top;\n",
              "    }\n",
              "\n",
              "    .dataframe thead th {\n",
              "        text-align: right;\n",
              "    }\n",
              "</style>\n",
              "<table border=\"1\" class=\"dataframe\">\n",
              "  <thead>\n",
              "    <tr style=\"text-align: right;\">\n",
              "      <th></th>\n",
              "      <th>id_mutation</th>\n",
              "      <th>date_mutation</th>\n",
              "      <th>nature_mutation</th>\n",
              "      <th>code_postal</th>\n",
              "      <th>code_commune</th>\n",
              "      <th>code_region</th>\n",
              "      <th>code_departement</th>\n",
              "      <th>type_local</th>\n",
              "      <th>latitude</th>\n",
              "      <th>longitude</th>\n",
              "      <th>valeur_fonciere</th>\n",
              "      <th>surface_reelle_bati</th>\n",
              "      <th>nombre_pieces_principales</th>\n",
              "      <th>prix_metre_carre</th>\n",
              "    </tr>\n",
              "  </thead>\n",
              "  <tbody>\n",
              "    <tr>\n",
              "      <th>41061</th>\n",
              "      <td>2015-1131554</td>\n",
              "      <td>2015-06-25</td>\n",
              "      <td>Vente</td>\n",
              "      <td>97136.0</td>\n",
              "      <td>97130</td>\n",
              "      <td>01</td>\n",
              "      <td>971</td>\n",
              "      <td>Maison</td>\n",
              "      <td>15.848188</td>\n",
              "      <td>-61.644636</td>\n",
              "      <td>1860.0</td>\n",
              "      <td>90.0</td>\n",
              "      <td>4.0</td>\n",
              "      <td>21</td>\n",
              "    </tr>\n",
              "    <tr>\n",
              "      <th>41070</th>\n",
              "      <td>2015-1131605</td>\n",
              "      <td>2015-07-08</td>\n",
              "      <td>Vente</td>\n",
              "      <td>97136.0</td>\n",
              "      <td>97130</td>\n",
              "      <td>01</td>\n",
              "      <td>971</td>\n",
              "      <td>Appartement</td>\n",
              "      <td>15.848572</td>\n",
              "      <td>-61.644027</td>\n",
              "      <td>1570.0</td>\n",
              "      <td>37.0</td>\n",
              "      <td>2.0</td>\n",
              "      <td>42</td>\n",
              "    </tr>\n",
              "    <tr>\n",
              "      <th>41071</th>\n",
              "      <td>2015-1131605</td>\n",
              "      <td>2015-07-08</td>\n",
              "      <td>Vente</td>\n",
              "      <td>97136.0</td>\n",
              "      <td>97130</td>\n",
              "      <td>01</td>\n",
              "      <td>971</td>\n",
              "      <td>Maison</td>\n",
              "      <td>15.848572</td>\n",
              "      <td>-61.644027</td>\n",
              "      <td>1570.0</td>\n",
              "      <td>98.0</td>\n",
              "      <td>4.0</td>\n",
              "      <td>16</td>\n",
              "    </tr>\n",
              "    <tr>\n",
              "      <th>41226</th>\n",
              "      <td>2015-1132114</td>\n",
              "      <td>2015-12-23</td>\n",
              "      <td>Vente</td>\n",
              "      <td>97136.0</td>\n",
              "      <td>97130</td>\n",
              "      <td>01</td>\n",
              "      <td>971</td>\n",
              "      <td>Maison</td>\n",
              "      <td>15.848833</td>\n",
              "      <td>-61.643867</td>\n",
              "      <td>1450.0</td>\n",
              "      <td>148.0</td>\n",
              "      <td>5.0</td>\n",
              "      <td>10</td>\n",
              "    </tr>\n",
              "    <tr>\n",
              "      <th>41013</th>\n",
              "      <td>2015-1131405</td>\n",
              "      <td>2015-04-09</td>\n",
              "      <td>Vente</td>\n",
              "      <td>97137.0</td>\n",
              "      <td>97131</td>\n",
              "      <td>01</td>\n",
              "      <td>971</td>\n",
              "      <td>Maison</td>\n",
              "      <td>15.862501</td>\n",
              "      <td>-61.597274</td>\n",
              "      <td>720000.0</td>\n",
              "      <td>88.0</td>\n",
              "      <td>3.0</td>\n",
              "      <td>8182</td>\n",
              "    </tr>\n",
              "    <tr>\n",
              "      <th>...</th>\n",
              "      <td>...</td>\n",
              "      <td>...</td>\n",
              "      <td>...</td>\n",
              "      <td>...</td>\n",
              "      <td>...</td>\n",
              "      <td>...</td>\n",
              "      <td>...</td>\n",
              "      <td>...</td>\n",
              "      <td>...</td>\n",
              "      <td>...</td>\n",
              "      <td>...</td>\n",
              "      <td>...</td>\n",
              "      <td>...</td>\n",
              "      <td>...</td>\n",
              "    </tr>\n",
              "    <tr>\n",
              "      <th>84426</th>\n",
              "      <td>2020-227595</td>\n",
              "      <td>2020-12-31</td>\n",
              "      <td>Vente</td>\n",
              "      <td>20600.0</td>\n",
              "      <td>2B120</td>\n",
              "      <td>94</td>\n",
              "      <td>2B</td>\n",
              "      <td>Maison</td>\n",
              "      <td>42.649121</td>\n",
              "      <td>9.443310</td>\n",
              "      <td>375000.0</td>\n",
              "      <td>138.0</td>\n",
              "      <td>5.0</td>\n",
              "      <td>2717</td>\n",
              "    </tr>\n",
              "    <tr>\n",
              "      <th>84423</th>\n",
              "      <td>2020-227568</td>\n",
              "      <td>2020-11-16</td>\n",
              "      <td>Vente</td>\n",
              "      <td>20200.0</td>\n",
              "      <td>2B353</td>\n",
              "      <td>94</td>\n",
              "      <td>2B</td>\n",
              "      <td>Maison</td>\n",
              "      <td>42.714854</td>\n",
              "      <td>9.427883</td>\n",
              "      <td>180000.0</td>\n",
              "      <td>104.0</td>\n",
              "      <td>3.0</td>\n",
              "      <td>1731</td>\n",
              "    </tr>\n",
              "    <tr>\n",
              "      <th>84425</th>\n",
              "      <td>2020-227575</td>\n",
              "      <td>2020-12-17</td>\n",
              "      <td>Vente</td>\n",
              "      <td>20200.0</td>\n",
              "      <td>2B305</td>\n",
              "      <td>94</td>\n",
              "      <td>2B</td>\n",
              "      <td>Maison</td>\n",
              "      <td>42.733560</td>\n",
              "      <td>9.460780</td>\n",
              "      <td>123500.0</td>\n",
              "      <td>33.0</td>\n",
              "      <td>1.0</td>\n",
              "      <td>3742</td>\n",
              "    </tr>\n",
              "    <tr>\n",
              "      <th>84422</th>\n",
              "      <td>2020-227564</td>\n",
              "      <td>2020-10-14</td>\n",
              "      <td>Vente</td>\n",
              "      <td>20233.0</td>\n",
              "      <td>2B224</td>\n",
              "      <td>94</td>\n",
              "      <td>2B</td>\n",
              "      <td>Maison</td>\n",
              "      <td>42.840266</td>\n",
              "      <td>9.456825</td>\n",
              "      <td>265000.0</td>\n",
              "      <td>82.0</td>\n",
              "      <td>4.0</td>\n",
              "      <td>3232</td>\n",
              "    </tr>\n",
              "    <tr>\n",
              "      <th>84420</th>\n",
              "      <td>2020-227555</td>\n",
              "      <td>2020-06-19</td>\n",
              "      <td>Vente</td>\n",
              "      <td>20247.0</td>\n",
              "      <td>2B261</td>\n",
              "      <td>94</td>\n",
              "      <td>2B</td>\n",
              "      <td>Maison</td>\n",
              "      <td>42.958421</td>\n",
              "      <td>9.452980</td>\n",
              "      <td>135000.0</td>\n",
              "      <td>84.0</td>\n",
              "      <td>3.0</td>\n",
              "      <td>1607</td>\n",
              "    </tr>\n",
              "  </tbody>\n",
              "</table>\n",
              "<p>3071019 rows × 14 columns</p>\n",
              "</div>"
            ],
            "text/plain": [
              "        id_mutation date_mutation  ... nombre_pieces_principales  prix_metre_carre\n",
              "41061  2015-1131554    2015-06-25  ...                       4.0                21\n",
              "41070  2015-1131605    2015-07-08  ...                       2.0                42\n",
              "41071  2015-1131605    2015-07-08  ...                       4.0                16\n",
              "41226  2015-1132114    2015-12-23  ...                       5.0                10\n",
              "41013  2015-1131405    2015-04-09  ...                       3.0              8182\n",
              "...             ...           ...  ...                       ...               ...\n",
              "84426   2020-227595    2020-12-31  ...                       5.0              2717\n",
              "84423   2020-227568    2020-11-16  ...                       3.0              1731\n",
              "84425   2020-227575    2020-12-17  ...                       1.0              3742\n",
              "84422   2020-227564    2020-10-14  ...                       4.0              3232\n",
              "84420   2020-227555    2020-06-19  ...                       3.0              1607\n",
              "\n",
              "[3071019 rows x 14 columns]"
            ]
          },
          "metadata": {
            "tags": []
          },
          "execution_count": 9
        }
      ]
    },
    {
      "cell_type": "code",
      "metadata": {
        "colab": {
          "base_uri": "https://localhost:8080/"
        },
        "id": "mSQ_jN2bPMst",
        "outputId": "7e97c017-264b-4c0a-df73-5d9ef98e38bd"
      },
      "source": [
        "len(df_immo)"
      ],
      "execution_count": 10,
      "outputs": [
        {
          "output_type": "execute_result",
          "data": {
            "text/plain": [
              "3071019"
            ]
          },
          "metadata": {
            "tags": []
          },
          "execution_count": 10
        }
      ]
    },
    {
      "cell_type": "markdown",
      "metadata": {
        "id": "U8zehYj751Sb"
      },
      "source": [
        "Sauvegarde du fichier clean et preparer"
      ]
    },
    {
      "cell_type": "code",
      "metadata": {
        "id": "Bz6cHhu5Xoq5"
      },
      "source": [
        "save_file_path = \"/content/drive/MyDrive/dataset-myimmo.csv\"\n",
        "df_immo.to_csv(path_or_buf=save_file_path,index=False,header=True)"
      ],
      "execution_count": null,
      "outputs": []
    },
    {
      "cell_type": "markdown",
      "metadata": {
        "id": "SnvJKBXe80x-"
      },
      "source": [
        "Modele BallTree - prix moyen du voisinage"
      ]
    },
    {
      "cell_type": "code",
      "metadata": {
        "colab": {
          "base_uri": "https://localhost:8080/",
          "height": 204
        },
        "id": "XfCiinOj81ND",
        "outputId": "7a6bc32d-b315-4100-f815-7de0aa0bfe07"
      },
      "source": [
        "pd.pivot_table(df_immo, values='valeur_fonciere', index=['type_local'],columns=['nature_mutation'], aggfunc=lambda x: len(x))"
      ],
      "execution_count": null,
      "outputs": [
        {
          "output_type": "execute_result",
          "data": {
            "text/html": [
              "<div>\n",
              "<style scoped>\n",
              "    .dataframe tbody tr th:only-of-type {\n",
              "        vertical-align: middle;\n",
              "    }\n",
              "\n",
              "    .dataframe tbody tr th {\n",
              "        vertical-align: top;\n",
              "    }\n",
              "\n",
              "    .dataframe thead th {\n",
              "        text-align: right;\n",
              "    }\n",
              "</style>\n",
              "<table border=\"1\" class=\"dataframe\">\n",
              "  <thead>\n",
              "    <tr style=\"text-align: right;\">\n",
              "      <th>nature_mutation</th>\n",
              "      <th>Vente</th>\n",
              "      <th>Vente en l'état futur d'achèvement</th>\n",
              "    </tr>\n",
              "    <tr>\n",
              "      <th>type_local</th>\n",
              "      <th></th>\n",
              "      <th></th>\n",
              "    </tr>\n",
              "  </thead>\n",
              "  <tbody>\n",
              "    <tr>\n",
              "      <th>Appartement</th>\n",
              "      <td>146391.0</td>\n",
              "      <td>123.0</td>\n",
              "    </tr>\n",
              "    <tr>\n",
              "      <th>Dépendance</th>\n",
              "      <td>67.0</td>\n",
              "      <td>1.0</td>\n",
              "    </tr>\n",
              "    <tr>\n",
              "      <th>Local industriel. commercial ou assimilé</th>\n",
              "      <td>208140.0</td>\n",
              "      <td>417.0</td>\n",
              "    </tr>\n",
              "    <tr>\n",
              "      <th>Maison</th>\n",
              "      <td>2712117.0</td>\n",
              "      <td>3763.0</td>\n",
              "    </tr>\n",
              "  </tbody>\n",
              "</table>\n",
              "</div>"
            ],
            "text/plain": [
              "nature_mutation                               Vente  Vente en l'état futur d'achèvement\n",
              "type_local                                                                             \n",
              "Appartement                                146391.0                               123.0\n",
              "Dépendance                                     67.0                                 1.0\n",
              "Local industriel. commercial ou assimilé   208140.0                               417.0\n",
              "Maison                                    2712117.0                              3763.0"
            ]
          },
          "metadata": {
            "tags": []
          },
          "execution_count": 10
        }
      ]
    },
    {
      "cell_type": "markdown",
      "metadata": {
        "id": "OD_KFsOqwH56"
      },
      "source": [
        "On creer un ensemble de modele pour les appartements et les maison "
      ]
    },
    {
      "cell_type": "code",
      "metadata": {
        "colab": {
          "base_uri": "https://localhost:8080/",
          "height": 524
        },
        "id": "3K43wRAfwGBk",
        "outputId": "db113d8d-9254-4ff0-adbc-a73fb28ad292"
      },
      "source": [
        "# Appartement\n",
        "df_immo_appart = df_immo[ (df_immo[\"nature_mutation\"]==\"Vente\") & (df_immo[\"type_local\"]==\"Appartement\") ]\n",
        "# Maison\n",
        "df_immo_maison = df_immo[ (df_immo[\"nature_mutation\"]==\"Vente\") & (df_immo[\"type_local\"]==\"Maison\") ]\n",
        "df_immo_maison"
      ],
      "execution_count": 11,
      "outputs": [
        {
          "output_type": "execute_result",
          "data": {
            "text/html": [
              "<div>\n",
              "<style scoped>\n",
              "    .dataframe tbody tr th:only-of-type {\n",
              "        vertical-align: middle;\n",
              "    }\n",
              "\n",
              "    .dataframe tbody tr th {\n",
              "        vertical-align: top;\n",
              "    }\n",
              "\n",
              "    .dataframe thead th {\n",
              "        text-align: right;\n",
              "    }\n",
              "</style>\n",
              "<table border=\"1\" class=\"dataframe\">\n",
              "  <thead>\n",
              "    <tr style=\"text-align: right;\">\n",
              "      <th></th>\n",
              "      <th>id_mutation</th>\n",
              "      <th>date_mutation</th>\n",
              "      <th>nature_mutation</th>\n",
              "      <th>code_postal</th>\n",
              "      <th>code_commune</th>\n",
              "      <th>code_region</th>\n",
              "      <th>code_departement</th>\n",
              "      <th>type_local</th>\n",
              "      <th>latitude</th>\n",
              "      <th>longitude</th>\n",
              "      <th>valeur_fonciere</th>\n",
              "      <th>surface_reelle_bati</th>\n",
              "      <th>nombre_pieces_principales</th>\n",
              "      <th>prix_metre_carre</th>\n",
              "    </tr>\n",
              "  </thead>\n",
              "  <tbody>\n",
              "    <tr>\n",
              "      <th>41061</th>\n",
              "      <td>2015-1131554</td>\n",
              "      <td>2015-06-25</td>\n",
              "      <td>Vente</td>\n",
              "      <td>97136.0</td>\n",
              "      <td>97130</td>\n",
              "      <td>01</td>\n",
              "      <td>971</td>\n",
              "      <td>Maison</td>\n",
              "      <td>15.848188</td>\n",
              "      <td>-61.644636</td>\n",
              "      <td>1860.00</td>\n",
              "      <td>90.0</td>\n",
              "      <td>4.0</td>\n",
              "      <td>21</td>\n",
              "    </tr>\n",
              "    <tr>\n",
              "      <th>41071</th>\n",
              "      <td>2015-1131605</td>\n",
              "      <td>2015-07-08</td>\n",
              "      <td>Vente</td>\n",
              "      <td>97136.0</td>\n",
              "      <td>97130</td>\n",
              "      <td>01</td>\n",
              "      <td>971</td>\n",
              "      <td>Maison</td>\n",
              "      <td>15.848572</td>\n",
              "      <td>-61.644027</td>\n",
              "      <td>1570.00</td>\n",
              "      <td>98.0</td>\n",
              "      <td>4.0</td>\n",
              "      <td>16</td>\n",
              "    </tr>\n",
              "    <tr>\n",
              "      <th>41226</th>\n",
              "      <td>2015-1132114</td>\n",
              "      <td>2015-12-23</td>\n",
              "      <td>Vente</td>\n",
              "      <td>97136.0</td>\n",
              "      <td>97130</td>\n",
              "      <td>01</td>\n",
              "      <td>971</td>\n",
              "      <td>Maison</td>\n",
              "      <td>15.848833</td>\n",
              "      <td>-61.643867</td>\n",
              "      <td>1450.00</td>\n",
              "      <td>148.0</td>\n",
              "      <td>5.0</td>\n",
              "      <td>10</td>\n",
              "    </tr>\n",
              "    <tr>\n",
              "      <th>41013</th>\n",
              "      <td>2015-1131405</td>\n",
              "      <td>2015-04-09</td>\n",
              "      <td>Vente</td>\n",
              "      <td>97137.0</td>\n",
              "      <td>97131</td>\n",
              "      <td>01</td>\n",
              "      <td>971</td>\n",
              "      <td>Maison</td>\n",
              "      <td>15.862501</td>\n",
              "      <td>-61.597274</td>\n",
              "      <td>720000.00</td>\n",
              "      <td>88.0</td>\n",
              "      <td>3.0</td>\n",
              "      <td>8182</td>\n",
              "    </tr>\n",
              "    <tr>\n",
              "      <th>41225</th>\n",
              "      <td>2015-1132113</td>\n",
              "      <td>2015-12-30</td>\n",
              "      <td>Vente</td>\n",
              "      <td>97137.0</td>\n",
              "      <td>97131</td>\n",
              "      <td>01</td>\n",
              "      <td>971</td>\n",
              "      <td>Maison</td>\n",
              "      <td>15.862801</td>\n",
              "      <td>-61.586874</td>\n",
              "      <td>10671.43</td>\n",
              "      <td>38.0</td>\n",
              "      <td>3.0</td>\n",
              "      <td>281</td>\n",
              "    </tr>\n",
              "    <tr>\n",
              "      <th>...</th>\n",
              "      <td>...</td>\n",
              "      <td>...</td>\n",
              "      <td>...</td>\n",
              "      <td>...</td>\n",
              "      <td>...</td>\n",
              "      <td>...</td>\n",
              "      <td>...</td>\n",
              "      <td>...</td>\n",
              "      <td>...</td>\n",
              "      <td>...</td>\n",
              "      <td>...</td>\n",
              "      <td>...</td>\n",
              "      <td>...</td>\n",
              "      <td>...</td>\n",
              "    </tr>\n",
              "    <tr>\n",
              "      <th>84426</th>\n",
              "      <td>2020-227595</td>\n",
              "      <td>2020-12-31</td>\n",
              "      <td>Vente</td>\n",
              "      <td>20600.0</td>\n",
              "      <td>2B120</td>\n",
              "      <td>94</td>\n",
              "      <td>2B</td>\n",
              "      <td>Maison</td>\n",
              "      <td>42.649121</td>\n",
              "      <td>9.443310</td>\n",
              "      <td>375000.00</td>\n",
              "      <td>138.0</td>\n",
              "      <td>5.0</td>\n",
              "      <td>2717</td>\n",
              "    </tr>\n",
              "    <tr>\n",
              "      <th>84423</th>\n",
              "      <td>2020-227568</td>\n",
              "      <td>2020-11-16</td>\n",
              "      <td>Vente</td>\n",
              "      <td>20200.0</td>\n",
              "      <td>2B353</td>\n",
              "      <td>94</td>\n",
              "      <td>2B</td>\n",
              "      <td>Maison</td>\n",
              "      <td>42.714854</td>\n",
              "      <td>9.427883</td>\n",
              "      <td>180000.00</td>\n",
              "      <td>104.0</td>\n",
              "      <td>3.0</td>\n",
              "      <td>1731</td>\n",
              "    </tr>\n",
              "    <tr>\n",
              "      <th>84425</th>\n",
              "      <td>2020-227575</td>\n",
              "      <td>2020-12-17</td>\n",
              "      <td>Vente</td>\n",
              "      <td>20200.0</td>\n",
              "      <td>2B305</td>\n",
              "      <td>94</td>\n",
              "      <td>2B</td>\n",
              "      <td>Maison</td>\n",
              "      <td>42.733560</td>\n",
              "      <td>9.460780</td>\n",
              "      <td>123500.00</td>\n",
              "      <td>33.0</td>\n",
              "      <td>1.0</td>\n",
              "      <td>3742</td>\n",
              "    </tr>\n",
              "    <tr>\n",
              "      <th>84422</th>\n",
              "      <td>2020-227564</td>\n",
              "      <td>2020-10-14</td>\n",
              "      <td>Vente</td>\n",
              "      <td>20233.0</td>\n",
              "      <td>2B224</td>\n",
              "      <td>94</td>\n",
              "      <td>2B</td>\n",
              "      <td>Maison</td>\n",
              "      <td>42.840266</td>\n",
              "      <td>9.456825</td>\n",
              "      <td>265000.00</td>\n",
              "      <td>82.0</td>\n",
              "      <td>4.0</td>\n",
              "      <td>3232</td>\n",
              "    </tr>\n",
              "    <tr>\n",
              "      <th>84420</th>\n",
              "      <td>2020-227555</td>\n",
              "      <td>2020-06-19</td>\n",
              "      <td>Vente</td>\n",
              "      <td>20247.0</td>\n",
              "      <td>2B261</td>\n",
              "      <td>94</td>\n",
              "      <td>2B</td>\n",
              "      <td>Maison</td>\n",
              "      <td>42.958421</td>\n",
              "      <td>9.452980</td>\n",
              "      <td>135000.00</td>\n",
              "      <td>84.0</td>\n",
              "      <td>3.0</td>\n",
              "      <td>1607</td>\n",
              "    </tr>\n",
              "  </tbody>\n",
              "</table>\n",
              "<p>2712117 rows × 14 columns</p>\n",
              "</div>"
            ],
            "text/plain": [
              "        id_mutation date_mutation  ... nombre_pieces_principales  prix_metre_carre\n",
              "41061  2015-1131554    2015-06-25  ...                       4.0                21\n",
              "41071  2015-1131605    2015-07-08  ...                       4.0                16\n",
              "41226  2015-1132114    2015-12-23  ...                       5.0                10\n",
              "41013  2015-1131405    2015-04-09  ...                       3.0              8182\n",
              "41225  2015-1132113    2015-12-30  ...                       3.0               281\n",
              "...             ...           ...  ...                       ...               ...\n",
              "84426   2020-227595    2020-12-31  ...                       5.0              2717\n",
              "84423   2020-227568    2020-11-16  ...                       3.0              1731\n",
              "84425   2020-227575    2020-12-17  ...                       1.0              3742\n",
              "84422   2020-227564    2020-10-14  ...                       4.0              3232\n",
              "84420   2020-227555    2020-06-19  ...                       3.0              1607\n",
              "\n",
              "[2712117 rows x 14 columns]"
            ]
          },
          "metadata": {
            "tags": []
          },
          "execution_count": 11
        }
      ]
    },
    {
      "cell_type": "markdown",
      "metadata": {
        "id": "aZWblmyiyJDY"
      },
      "source": [
        "Modele BallTree pour les appartements - 1 modéle par region"
      ]
    },
    {
      "cell_type": "code",
      "metadata": {
        "id": "okcQNbUGylu5"
      },
      "source": [
        "from sklearn.neighbors import BallTree\n",
        "import numpy as np\n",
        "import time"
      ],
      "execution_count": 10,
      "outputs": []
    },
    {
      "cell_type": "code",
      "metadata": {
        "colab": {
          "base_uri": "https://localhost:8080/"
        },
        "id": "BdNUXMWkyiEu",
        "outputId": "54160d1a-bb8f-4451-fe55-c5950df7e7f3"
      },
      "source": [
        "df_immo_maison['distance_moyenne']=np.zeros(len(df_immo_maison))\n",
        "df_immo_maison['index_voisins']=np.zeros(len(df_immo_maison))\n",
        "models = {}\n",
        "regions = df_immo_maison.code_region.unique()\n",
        "for k in range(len(regions)):\n",
        "    name = 'appart_' + regions[k]\n",
        "    data = df_immo_maison[df_immo_maison.code_region==regions[k]]\n",
        "    data = data.reset_index(drop=True)\n",
        "    models[k] = BallTree(data[['latitude', 'longitude']].values, leaf_size=2, metric='haversine')"
      ],
      "execution_count": null,
      "outputs": [
        {
          "output_type": "stream",
          "text": [
            "/usr/local/lib/python3.7/dist-packages/ipykernel_launcher.py:1: SettingWithCopyWarning: \n",
            "A value is trying to be set on a copy of a slice from a DataFrame.\n",
            "Try using .loc[row_indexer,col_indexer] = value instead\n",
            "\n",
            "See the caveats in the documentation: https://pandas.pydata.org/pandas-docs/stable/user_guide/indexing.html#returning-a-view-versus-a-copy\n",
            "  \"\"\"Entry point for launching an IPython kernel.\n",
            "/usr/local/lib/python3.7/dist-packages/ipykernel_launcher.py:2: SettingWithCopyWarning: \n",
            "A value is trying to be set on a copy of a slice from a DataFrame.\n",
            "Try using .loc[row_indexer,col_indexer] = value instead\n",
            "\n",
            "See the caveats in the documentation: https://pandas.pydata.org/pandas-docs/stable/user_guide/indexing.html#returning-a-view-versus-a-copy\n",
            "  \n"
          ],
          "name": "stderr"
        }
      ]
    },
    {
      "cell_type": "code",
      "metadata": {
        "colab": {
          "base_uri": "https://localhost:8080/"
        },
        "id": "MpSDNqe_HkZu",
        "outputId": "dd11a0ab-5249-4f00-add5-ae1de1702742"
      },
      "source": [
        "for k in range(len(regions)):\n",
        "    start = time.time()\n",
        "    data = df_immo_maison[df_immo_maison.code_region==regions[k]]\n",
        "    data = data.reset_index(drop=True)\n",
        "    dist, indices = models[k].query(data[['latitude','longitude']].values,k=10)\n",
        "    data['distance_moyenne'] = np.mean(dist[:,1:]*6341,1)\n",
        "    a = pd.DataFrame()\n",
        "    a['prix_metre_carre'] = np.zeros(len(data))\n",
        "    for i in range(1,10):\n",
        "        a += pd.DataFrame(data.iloc[indices[:,i],:]['prix_metre_carre']).reset_index(drop=True)\n",
        "    a=a/10\n",
        "    data['prix_moyen_cartier'] = a.values\n",
        "    stop = time.time()\n",
        "    print(stop-start)\n",
        "    data.sort_values(['id_mutation', 'latitude','longitude'])\n",
        "    data.to_csv(\"/content/drive/MyDrive/data_pa/appart_region_\" + regions[k] +\".csv\", index=False, header=True)"
      ],
      "execution_count": null,
      "outputs": [
        {
          "output_type": "stream",
          "text": [
            "0.05286908149719238\n",
            "0.06675100326538086\n",
            "0.049443960189819336\n",
            "0.04551243782043457\n",
            "3.1545772552490234\n",
            "0.5083305835723877\n",
            "0.6605215072631836\n",
            "0.8687856197357178\n",
            "1.4686908721923828\n",
            "1.1962547302246094\n",
            "0.5374147891998291\n",
            "0.8844661712646484\n",
            "2.7554454803466797\n",
            "2.168898344039917\n",
            "4.535516023635864\n",
            "1.0625996589660645\n",
            "0.04128289222717285\n"
          ],
          "name": "stdout"
        }
      ]
    },
    {
      "cell_type": "markdown",
      "metadata": {
        "id": "69mbF0Rkfgmt"
      },
      "source": [
        "Modele ML"
      ]
    },
    {
      "cell_type": "code",
      "metadata": {
        "colab": {
          "base_uri": "https://localhost:8080/"
        },
        "id": "U5Y0hIca2P1Q",
        "outputId": "34f48ae8-19cc-4217-bd80-24aec5c6e322"
      },
      "source": [
        "df_immo_maison['distance_moyenne']=np.zeros(len(df_immo_maison))\n",
        "df_immo_maison['index_voisins']=np.zeros(len(df_immo_maison))\n",
        "models = {}\n",
        "regions = df_immo_maison.code_region.unique()\n",
        "df_prepare_ml = []\n",
        "for k in range(len(regions)):\n",
        "    start = time.time()\n",
        "    name = 'appart_' + regions[k]\n",
        "    data = df_immo_maison[df_immo_maison.code_region==regions[k]]\n",
        "    data = data.reset_index(drop=True)\n",
        "    models[k] = BallTree(data[['latitude', 'longitude']].values, leaf_size=2, metric='haversine')\n",
        "    data = df_immo_maison[df_immo_maison.code_region==regions[k]]\n",
        "    data = data.reset_index(drop=True)\n",
        "    dist, indices = models[k].query(data[['latitude','longitude']].values,k=10)\n",
        "    data['distance_moyenne'] = np.mean(dist[:,1:]*6341,1)\n",
        "    a = pd.DataFrame()\n",
        "    a['prix_metre_carre'] = np.zeros(len(data))\n",
        "    for i in range(1,10):\n",
        "        a += pd.DataFrame(data.iloc[indices[:,i],:]['prix_metre_carre']).reset_index(drop=True)\n",
        "    a=a/10\n",
        "    data['prix_moyen_cartier'] = a.values\n",
        "    data.sort_values(['id_mutation', 'latitude','longitude'])\n",
        "    if len(df_prepare_ml) == 0:\n",
        "      df_prepare_ml = data\n",
        "    else:\n",
        "      df_prepare_ml = pd.concat([df_prepare_ml, data])\n",
        "    stop = time.time()\n",
        "    print(stop-start)"
      ],
      "execution_count": 13,
      "outputs": [
        {
          "output_type": "stream",
          "text": [
            "/usr/local/lib/python3.7/dist-packages/ipykernel_launcher.py:1: SettingWithCopyWarning: \n",
            "A value is trying to be set on a copy of a slice from a DataFrame.\n",
            "Try using .loc[row_indexer,col_indexer] = value instead\n",
            "\n",
            "See the caveats in the documentation: https://pandas.pydata.org/pandas-docs/stable/user_guide/indexing.html#returning-a-view-versus-a-copy\n",
            "  \"\"\"Entry point for launching an IPython kernel.\n",
            "/usr/local/lib/python3.7/dist-packages/ipykernel_launcher.py:2: SettingWithCopyWarning: \n",
            "A value is trying to be set on a copy of a slice from a DataFrame.\n",
            "Try using .loc[row_indexer,col_indexer] = value instead\n",
            "\n",
            "See the caveats in the documentation: https://pandas.pydata.org/pandas-docs/stable/user_guide/indexing.html#returning-a-view-versus-a-copy\n",
            "  \n"
          ],
          "name": "stderr"
        },
        {
          "output_type": "stream",
          "text": [
            "0.7505168914794922\n",
            "0.5790278911590576\n",
            "0.5560407638549805\n",
            "1.296142578125\n",
            "186.35141682624817\n",
            "27.692495822906494\n",
            "16.3211989402771\n",
            "57.33367037773132\n",
            "52.12783646583557\n",
            "35.0673942565918\n",
            "34.868478775024414\n",
            "74.3076503276825\n",
            "114.71939635276794\n",
            "53.12364745140076\n",
            "109.5364453792572\n",
            "35.5931556224823\n",
            "1.8824172019958496\n"
          ],
          "name": "stdout"
        }
      ]
    },
    {
      "cell_type": "code",
      "metadata": {
        "colab": {
          "base_uri": "https://localhost:8080/"
        },
        "id": "0ZP5mmnXHhG-",
        "outputId": "efc5ae93-8491-4201-f7b1-d0216eef160e"
      },
      "source": [
        "len(df_prepare_ml)"
      ],
      "execution_count": 34,
      "outputs": [
        {
          "output_type": "execute_result",
          "data": {
            "text/plain": [
              "2712117"
            ]
          },
          "metadata": {
            "tags": []
          },
          "execution_count": 34
        }
      ]
    },
    {
      "cell_type": "code",
      "metadata": {
        "colab": {
          "base_uri": "https://localhost:8080/"
        },
        "id": "PlloKAuqnldB",
        "outputId": "bb00a030-cd00-4f35-a3e9-d8b9a917a2ba"
      },
      "source": [
        "len(df_immo_maison)"
      ],
      "execution_count": 15,
      "outputs": [
        {
          "output_type": "execute_result",
          "data": {
            "text/plain": [
              "2712117"
            ]
          },
          "metadata": {
            "tags": []
          },
          "execution_count": 15
        }
      ]
    },
    {
      "cell_type": "code",
      "metadata": {
        "id": "olN4iUbsYgUV"
      },
      "source": [
        "df_prepare_ml.to_csv(\"/content/drive/MyDrive/data_pa/immo_maison_full_region.csv\", index=False, header=True)"
      ],
      "execution_count": 18,
      "outputs": []
    },
    {
      "cell_type": "code",
      "metadata": {
        "id": "ipf1AGgqfgFT",
        "colab": {
          "base_uri": "https://localhost:8080/",
          "height": 453
        },
        "outputId": "49eaaa28-61b8-4036-b189-889c09029fd0"
      },
      "source": [
        "df_ml = pd.read_csv(\"/content/drive/MyDrive/data_pa/immo_maison_full_region.csv\")\n",
        "df_ml = df_ml[['latitude', 'longitude', 'surface_reelle_bati', 'prix_metre_carre', 'code_region','prix_moyen_cartier']]\n",
        "df_ml"
      ],
      "execution_count": 4,
      "outputs": [
        {
          "output_type": "stream",
          "text": [
            "/usr/local/lib/python3.7/dist-packages/IPython/core/interactiveshell.py:2718: DtypeWarning: Columns (4,6) have mixed types.Specify dtype option on import or set low_memory=False.\n",
            "  interactivity=interactivity, compiler=compiler, result=result)\n"
          ],
          "name": "stderr"
        },
        {
          "output_type": "execute_result",
          "data": {
            "text/html": [
              "<div>\n",
              "<style scoped>\n",
              "    .dataframe tbody tr th:only-of-type {\n",
              "        vertical-align: middle;\n",
              "    }\n",
              "\n",
              "    .dataframe tbody tr th {\n",
              "        vertical-align: top;\n",
              "    }\n",
              "\n",
              "    .dataframe thead th {\n",
              "        text-align: right;\n",
              "    }\n",
              "</style>\n",
              "<table border=\"1\" class=\"dataframe\">\n",
              "  <thead>\n",
              "    <tr style=\"text-align: right;\">\n",
              "      <th></th>\n",
              "      <th>latitude</th>\n",
              "      <th>longitude</th>\n",
              "      <th>surface_reelle_bati</th>\n",
              "      <th>prix_metre_carre</th>\n",
              "      <th>code_region</th>\n",
              "      <th>prix_moyen_cartier</th>\n",
              "    </tr>\n",
              "  </thead>\n",
              "  <tbody>\n",
              "    <tr>\n",
              "      <th>0</th>\n",
              "      <td>15.848188</td>\n",
              "      <td>-61.644636</td>\n",
              "      <td>90.0</td>\n",
              "      <td>21</td>\n",
              "      <td>1</td>\n",
              "      <td>27.8</td>\n",
              "    </tr>\n",
              "    <tr>\n",
              "      <th>1</th>\n",
              "      <td>15.848572</td>\n",
              "      <td>-61.644027</td>\n",
              "      <td>98.0</td>\n",
              "      <td>16</td>\n",
              "      <td>1</td>\n",
              "      <td>18.8</td>\n",
              "    </tr>\n",
              "    <tr>\n",
              "      <th>2</th>\n",
              "      <td>15.848833</td>\n",
              "      <td>-61.643867</td>\n",
              "      <td>148.0</td>\n",
              "      <td>10</td>\n",
              "      <td>1</td>\n",
              "      <td>19.4</td>\n",
              "    </tr>\n",
              "    <tr>\n",
              "      <th>3</th>\n",
              "      <td>15.862501</td>\n",
              "      <td>-61.597274</td>\n",
              "      <td>88.0</td>\n",
              "      <td>8182</td>\n",
              "      <td>1</td>\n",
              "      <td>1045.4</td>\n",
              "    </tr>\n",
              "    <tr>\n",
              "      <th>4</th>\n",
              "      <td>15.862801</td>\n",
              "      <td>-61.586874</td>\n",
              "      <td>38.0</td>\n",
              "      <td>281</td>\n",
              "      <td>1</td>\n",
              "      <td>1036.2</td>\n",
              "    </tr>\n",
              "    <tr>\n",
              "      <th>...</th>\n",
              "      <td>...</td>\n",
              "      <td>...</td>\n",
              "      <td>...</td>\n",
              "      <td>...</td>\n",
              "      <td>...</td>\n",
              "      <td>...</td>\n",
              "    </tr>\n",
              "    <tr>\n",
              "      <th>2712112</th>\n",
              "      <td>42.649121</td>\n",
              "      <td>9.443310</td>\n",
              "      <td>138.0</td>\n",
              "      <td>2717</td>\n",
              "      <td>94</td>\n",
              "      <td>1947.5</td>\n",
              "    </tr>\n",
              "    <tr>\n",
              "      <th>2712113</th>\n",
              "      <td>42.714854</td>\n",
              "      <td>9.427883</td>\n",
              "      <td>104.0</td>\n",
              "      <td>1731</td>\n",
              "      <td>94</td>\n",
              "      <td>1793.8</td>\n",
              "    </tr>\n",
              "    <tr>\n",
              "      <th>2712114</th>\n",
              "      <td>42.733560</td>\n",
              "      <td>9.460780</td>\n",
              "      <td>33.0</td>\n",
              "      <td>3742</td>\n",
              "      <td>94</td>\n",
              "      <td>3680.5</td>\n",
              "    </tr>\n",
              "    <tr>\n",
              "      <th>2712115</th>\n",
              "      <td>42.840266</td>\n",
              "      <td>9.456825</td>\n",
              "      <td>82.0</td>\n",
              "      <td>3232</td>\n",
              "      <td>94</td>\n",
              "      <td>2149.1</td>\n",
              "    </tr>\n",
              "    <tr>\n",
              "      <th>2712116</th>\n",
              "      <td>42.958421</td>\n",
              "      <td>9.452980</td>\n",
              "      <td>84.0</td>\n",
              "      <td>1607</td>\n",
              "      <td>94</td>\n",
              "      <td>2636.3</td>\n",
              "    </tr>\n",
              "  </tbody>\n",
              "</table>\n",
              "<p>2712117 rows × 6 columns</p>\n",
              "</div>"
            ],
            "text/plain": [
              "          latitude  longitude  ...  code_region  prix_moyen_cartier\n",
              "0        15.848188 -61.644636  ...            1                27.8\n",
              "1        15.848572 -61.644027  ...            1                18.8\n",
              "2        15.848833 -61.643867  ...            1                19.4\n",
              "3        15.862501 -61.597274  ...            1              1045.4\n",
              "4        15.862801 -61.586874  ...            1              1036.2\n",
              "...            ...        ...  ...          ...                 ...\n",
              "2712112  42.649121   9.443310  ...           94              1947.5\n",
              "2712113  42.714854   9.427883  ...           94              1793.8\n",
              "2712114  42.733560   9.460780  ...           94              3680.5\n",
              "2712115  42.840266   9.456825  ...           94              2149.1\n",
              "2712116  42.958421   9.452980  ...           94              2636.3\n",
              "\n",
              "[2712117 rows x 6 columns]"
            ]
          },
          "metadata": {
            "tags": []
          },
          "execution_count": 4
        }
      ]
    },
    {
      "cell_type": "code",
      "metadata": {
        "id": "hbQpYIVzndJu"
      },
      "source": [
        "from sklearn.metrics import make_scorer\n",
        "def custom_pred(y_test,y_pred):\n",
        "    error=np.abs((y_test-y_pred)/y_test)\n",
        "    return np.mean(error)\n",
        "\n",
        "custom_loss=make_scorer(custom_pred,greater_is_better=False)"
      ],
      "execution_count": 6,
      "outputs": []
    },
    {
      "cell_type": "code",
      "metadata": {
        "id": "bmXVcwACnfbq"
      },
      "source": [
        "from sklearn.preprocessing import LabelEncoder\n",
        "encoder=LabelEncoder()\n",
        "df_ml['code_region']=encoder.fit_transform(df_ml['code_region'])"
      ],
      "execution_count": 7,
      "outputs": []
    },
    {
      "cell_type": "code",
      "metadata": {
        "colab": {
          "base_uri": "https://localhost:8080/"
        },
        "id": "bOP2YeQRoAfE",
        "outputId": "f613eff4-dcfc-43f1-f874-713ac092d9f5"
      },
      "source": [
        "from sklearn.model_selection import train_test_split\n",
        "from sklearn.preprocessing import StandardScaler\n",
        "from sklearn.ensemble import RandomForestRegressor\n",
        "import matplotlib.pyplot as plt\n",
        "\n",
        "y=df_ml['prix_metre_carre'].values\n",
        "X=df_ml.drop(columns=['prix_metre_carre']).values\n",
        "\n",
        "scaler=StandardScaler()\n",
        "X=scaler.fit_transform(X)\n",
        "\n",
        "X_train,X_test,y_train,y_test=train_test_split(X, y, test_size=0.2,random_state=12)\n",
        "forest=RandomForestRegressor(n_estimators=40,min_samples_split=5)\n",
        "forest.fit(X_train,y_train)\n",
        "\n"
      ],
      "execution_count": 8,
      "outputs": [
        {
          "output_type": "execute_result",
          "data": {
            "text/plain": [
              "RandomForestRegressor(bootstrap=True, ccp_alpha=0.0, criterion='mse',\n",
              "                      max_depth=None, max_features='auto', max_leaf_nodes=None,\n",
              "                      max_samples=None, min_impurity_decrease=0.0,\n",
              "                      min_impurity_split=None, min_samples_leaf=1,\n",
              "                      min_samples_split=5, min_weight_fraction_leaf=0.0,\n",
              "                      n_estimators=40, n_jobs=None, oob_score=False,\n",
              "                      random_state=None, verbose=0, warm_start=False)"
            ]
          },
          "metadata": {
            "tags": []
          },
          "execution_count": 8
        }
      ]
    },
    {
      "cell_type": "code",
      "metadata": {
        "colab": {
          "base_uri": "https://localhost:8080/"
        },
        "id": "B1hVVLgtKiGD",
        "outputId": "b1532b17-0555-457c-b732-f9bddd4357d4"
      },
      "source": [
        "custom_pred(y_test,forest.predict(X_test))"
      ],
      "execution_count": 11,
      "outputs": [
        {
          "output_type": "stream",
          "text": [
            "/usr/local/lib/python3.7/dist-packages/ipykernel_launcher.py:3: RuntimeWarning: divide by zero encountered in true_divide\n",
            "  This is separate from the ipykernel package so we can avoid doing imports until\n",
            "/usr/local/lib/python3.7/dist-packages/ipykernel_launcher.py:3: RuntimeWarning: invalid value encountered in true_divide\n",
            "  This is separate from the ipykernel package so we can avoid doing imports until\n"
          ],
          "name": "stderr"
        },
        {
          "output_type": "execute_result",
          "data": {
            "text/plain": [
              "nan"
            ]
          },
          "metadata": {
            "tags": []
          },
          "execution_count": 11
        }
      ]
    },
    {
      "cell_type": "code",
      "metadata": {
        "colab": {
          "base_uri": "https://localhost:8080/"
        },
        "id": "_SEbEjyAd8CQ",
        "outputId": "ce9be9f6-8c9d-496f-bd53-919700a0e3a0"
      },
      "source": [
        "print(X[1], y[1])\n",
        "forest.predict([X[1]])"
      ],
      "execution_count": 16,
      "outputs": [
        {
          "output_type": "stream",
          "text": [
            "[ -5.33193898 -10.31634082  -0.09112008  -2.82376573  -0.12864353] 16\n"
          ],
          "name": "stdout"
        },
        {
          "output_type": "execute_result",
          "data": {
            "text/plain": [
              "array([15.16428571])"
            ]
          },
          "metadata": {
            "tags": []
          },
          "execution_count": 16
        }
      ]
    },
    {
      "cell_type": "code",
      "metadata": {
        "colab": {
          "base_uri": "https://localhost:8080/",
          "height": 380
        },
        "id": "WkxcgAcpqdUq",
        "outputId": "eb96034c-18d0-4f18-e0de-d013276c831d"
      },
      "source": [
        "shema=pd.DataFrame((np.abs(y_test-forest.predict(X_test))/y_test))*100\n",
        "shema[shema<200].hist(bins=1000)\n",
        "plt.xlabel('Erreur en %')\n",
        "plt.title('Distribution de l\\'erreur de notre modèle')"
      ],
      "execution_count": 14,
      "outputs": [
        {
          "output_type": "stream",
          "text": [
            "/usr/local/lib/python3.7/dist-packages/ipykernel_launcher.py:1: RuntimeWarning: divide by zero encountered in true_divide\n",
            "  \"\"\"Entry point for launching an IPython kernel.\n",
            "/usr/local/lib/python3.7/dist-packages/ipykernel_launcher.py:1: RuntimeWarning: invalid value encountered in true_divide\n",
            "  \"\"\"Entry point for launching an IPython kernel.\n"
          ],
          "name": "stderr"
        },
        {
          "output_type": "execute_result",
          "data": {
            "text/plain": [
              "Text(0.5, 1.0, \"Distribution de l'erreur de notre modèle\")"
            ]
          },
          "metadata": {
            "tags": []
          },
          "execution_count": 14
        },
        {
          "output_type": "display_data",
          "data": {
            "image/png": "[encoded data removed]",
            "text/plain": [
              "<Figure size 432x288 with 1 Axes>"
            ]
          },
          "metadata": {
            "tags": [],
            "needs_background": "light"
          }
        }
      ]
    },
    {
      "cell_type": "code",
      "metadata": {
        "colab": {
          "base_uri": "https://localhost:8080/"
        },
        "id": "4fy_QmcnsSpl",
        "outputId": "f82ae9f4-5fb0-429a-cf6c-6619a18d4884"
      },
      "source": [
        "shema.iloc[0].astype(float).median()\n"
      ],
      "execution_count": 15,
      "outputs": [
        {
          "output_type": "execute_result",
          "data": {
            "text/plain": [
              "13.010011591701367"
            ]
          },
          "metadata": {
            "tags": []
          },
          "execution_count": 15
        }
      ]
    },
    {
      "cell_type": "code",
      "metadata": {
        "colab": {
          "base_uri": "https://localhost:8080/"
        },
        "id": "_zi9z8elewmT",
        "outputId": "14771026-b99f-4917-8c27-78fc96985bb0"
      },
      "source": [
        "# Save model RandomForest\n",
        "from sklearn.externals import joblib\n",
        "\n",
        "# Save to file in the current working directory\n",
        "joblib_file = \"/content/drive/MyDrive/data_pa/model_immo_maison_full_region_13err.pkl\"\n",
        "joblib.dump(forest, joblib_file)\n",
        "\n",
        "# Load from file\n",
        "joblib_model = joblib.load(joblib_file)\n",
        "\n",
        "print(X[1], y[1])\n",
        "joblib_model.predict([X[1]])"
      ],
      "execution_count": 17,
      "outputs": [
        {
          "output_type": "stream",
          "text": [
            "/usr/local/lib/python3.7/dist-packages/sklearn/externals/joblib/__init__.py:15: FutureWarning: sklearn.externals.joblib is deprecated in 0.21 and will be removed in 0.23. Please import this functionality directly from joblib, which can be installed with: pip install joblib. If this warning is raised when loading pickled models, you may need to re-serialize those models with scikit-learn 0.21+.\n",
            "  warnings.warn(msg, category=FutureWarning)\n"
          ],
          "name": "stderr"
        },
        {
          "output_type": "stream",
          "text": [
            "[-7.22401806 -8.8194302   1.73050914 -2.24189692 -0.06540547] 1278\n"
          ],
          "name": "stdout"
        },
        {
          "output_type": "execute_result",
          "data": {
            "text/plain": [
              "array([1757.84196429])"
            ]
          },
          "metadata": {
            "tags": []
          },
          "execution_count": 17
        }
      ]
    },
    {
      "cell_type": "markdown",
      "metadata": {
        "id": "urSyJKELhziX"
      },
      "source": [
        "Xgboost"
      ]
    },
    {
      "cell_type": "code",
      "metadata": {
        "id": "3kNyP1xrPNgw"
      },
      "source": [
        "# fit a final xgboost model on the housing dataset and make a prediction\n",
        "from numpy import asarray\n",
        "from pandas import read_csv\n",
        "from xgboost import XGBRegressor\n",
        "from sklearn.preprocessing import LabelEncoder\n",
        "\n",
        "encoder=LabelEncoder()\n",
        "df_ml['code_region']=encoder.fit_transform(df_ml['code_region'])\n",
        "\n",
        "y = df_ml['prix_metre_carre'].values\n",
        "X = df_ml.drop(columns=['prix_metre_carre']).values\n",
        "\n",
        "# define model\n",
        "model = XGBRegressor(n_estimators=1000, max_depth=7, eta=0.1, subsample=0.7, colsample_bytree=0.8)\n",
        "# fit model\n",
        "model.fit(X, y)\n",
        "# define new data\n",
        "row = X[0]\n",
        "new_data = asarray([row])\n",
        "# make a prediction\n",
        "yhat = model.predict(new_data)\n",
        "# summarize prediction\n",
        "print(X[0])\n",
        "print(y[0])\n",
        "\n",
        "print('Predicted: %.3f' % yhat)\n"
      ],
      "execution_count": null,
      "outputs": []
    },
    {
      "cell_type": "markdown",
      "metadata": {
        "id": "Pl5O3xmhoJCf"
      },
      "source": [
        "Keras"
      ]
    },
    {
      "cell_type": "code",
      "metadata": {
        "colab": {
          "base_uri": "https://localhost:8080/"
        },
        "id": "aQ_EJc_uoIys",
        "outputId": "f486fa42-1e6a-43ad-a9fa-68e5828ca509"
      },
      "source": [
        "import tensorflow as tf\n",
        "from sklearn.preprocessing import LabelEncoder\n",
        "\n",
        "encoder=LabelEncoder()\n",
        "df_ml['code_region']=encoder.fit_transform(df_ml['code_region'])\n",
        "\n",
        "y = df_ml['prix_metre_carre'].values\n",
        "X = df_ml.drop(columns=['prix_metre_carre']).values\n",
        "print(y)"
      ],
      "execution_count": null,
      "outputs": [
        {
          "output_type": "stream",
          "text": [
            "[  42   95 3916 ... 4423 4952  964]\n"
          ],
          "name": "stdout"
        },
        {
          "output_type": "stream",
          "text": [
            "/usr/local/lib/python3.7/dist-packages/ipykernel_launcher.py:5: SettingWithCopyWarning: \n",
            "A value is trying to be set on a copy of a slice from a DataFrame.\n",
            "Try using .loc[row_indexer,col_indexer] = value instead\n",
            "\n",
            "See the caveats in the documentation: https://pandas.pydata.org/pandas-docs/stable/user_guide/indexing.html#returning-a-view-versus-a-copy\n",
            "  \"\"\"\n"
          ],
          "name": "stderr"
        }
      ]
    },
    {
      "cell_type": "code",
      "metadata": {
        "colab": {
          "base_uri": "https://localhost:8080/"
        },
        "id": "d3W7JO-0nY4r",
        "outputId": "0400ffa9-e79a-4f6d-d7ee-aab84588ea11"
      },
      "source": [
        "# model = tf.keras.models.Sequential()\n",
        "\n",
        "# model.add(tf.keras.layers.Flatten())\n",
        "# model.add(tf.keras.layers.Dense(256, activation=tf.keras.activations.tanh))\n",
        "# model.add(tf.keras.layers.Dense(128, activation=tf.keras.activations.tanh))\n",
        "# model.add(tf.keras.layers.Dense(32, activation=tf.keras.activations.tanh))\n",
        "\n",
        "# model.compile(\n",
        "#         optimizer=tf.keras.optimizers.Adam(),\n",
        "#         loss=tf.keras.losses.MeanSquaredError(),\n",
        "#         metrics=tf.keras.metrics.categorical_accuracy\n",
        "#       )\n",
        "\n",
        "model = tfdf.keras.RandomForestModel()\n",
        "history = model.fit(\n",
        "        X,\n",
        "        y\n",
        "    )\n"
      ],
      "execution_count": null,
      "outputs": [
        {
          "output_type": "stream",
          "text": [
            "Requirement already satisfied: tensorflow_decision_forests in /usr/local/lib/python3.7/dist-packages (0.1.5)\n",
            "Requirement already satisfied: absl-py in /usr/local/lib/python3.7/dist-packages (from tensorflow_decision_forests) (0.12.0)\n",
            "Requirement already satisfied: tensorflow~=2.5 in /usr/local/lib/python3.7/dist-packages (from tensorflow_decision_forests) (2.5.0)\n",
            "Requirement already satisfied: pandas in /usr/local/lib/python3.7/dist-packages (from tensorflow_decision_forests) (1.1.5)\n",
            "Requirement already satisfied: numpy in /usr/local/lib/python3.7/dist-packages (from tensorflow_decision_forests) (1.19.5)\n",
            "Requirement already satisfied: six in /usr/local/lib/python3.7/dist-packages (from tensorflow_decision_forests) (1.15.0)\n",
            "Requirement already satisfied: wheel in /usr/local/lib/python3.7/dist-packages (from tensorflow_decision_forests) (0.36.2)\n",
            "Requirement already satisfied: opt-einsum~=3.3.0 in /usr/local/lib/python3.7/dist-packages (from tensorflow~=2.5->tensorflow_decision_forests) (3.3.0)\n",
            "Requirement already satisfied: protobuf>=3.9.2 in /usr/local/lib/python3.7/dist-packages (from tensorflow~=2.5->tensorflow_decision_forests) (3.12.4)\n",
            "Requirement already satisfied: h5py~=3.1.0 in /usr/local/lib/python3.7/dist-packages (from tensorflow~=2.5->tensorflow_decision_forests) (3.1.0)\n",
            "Requirement already satisfied: gast==0.4.0 in /usr/local/lib/python3.7/dist-packages (from tensorflow~=2.5->tensorflow_decision_forests) (0.4.0)\n",
            "Requirement already satisfied: tensorboard~=2.5 in /usr/local/lib/python3.7/dist-packages (from tensorflow~=2.5->tensorflow_decision_forests) (2.5.0)\n",
            "Requirement already satisfied: tensorflow-estimator<2.6.0,>=2.5.0rc0 in /usr/local/lib/python3.7/dist-packages (from tensorflow~=2.5->tensorflow_decision_forests) (2.5.0)\n",
            "Requirement already satisfied: typing-extensions~=3.7.4 in /usr/local/lib/python3.7/dist-packages (from tensorflow~=2.5->tensorflow_decision_forests) (3.7.4.3)\n",
            "Requirement already satisfied: wrapt~=1.12.1 in /usr/local/lib/python3.7/dist-packages (from tensorflow~=2.5->tensorflow_decision_forests) (1.12.1)\n",
            "Requirement already satisfied: flatbuffers~=1.12.0 in /usr/local/lib/python3.7/dist-packages (from tensorflow~=2.5->tensorflow_decision_forests) (1.12)\n",
            "Requirement already satisfied: google-pasta~=0.2 in /usr/local/lib/python3.7/dist-packages (from tensorflow~=2.5->tensorflow_decision_forests) (0.2.0)\n",
            "Requirement already satisfied: astunparse~=1.6.3 in /usr/local/lib/python3.7/dist-packages (from tensorflow~=2.5->tensorflow_decision_forests) (1.6.3)\n",
            "Requirement already satisfied: grpcio~=1.34.0 in /usr/local/lib/python3.7/dist-packages (from tensorflow~=2.5->tensorflow_decision_forests) (1.34.1)\n",
            "Requirement already satisfied: keras-nightly~=2.5.0.dev in /usr/local/lib/python3.7/dist-packages (from tensorflow~=2.5->tensorflow_decision_forests) (2.5.0.dev2021032900)\n",
            "Requirement already satisfied: keras-preprocessing~=1.1.2 in /usr/local/lib/python3.7/dist-packages (from tensorflow~=2.5->tensorflow_decision_forests) (1.1.2)\n",
            "Requirement already satisfied: termcolor~=1.1.0 in /usr/local/lib/python3.7/dist-packages (from tensorflow~=2.5->tensorflow_decision_forests) (1.1.0)\n",
            "Requirement already satisfied: python-dateutil>=2.7.3 in /usr/local/lib/python3.7/dist-packages (from pandas->tensorflow_decision_forests) (2.8.1)\n",
            "Requirement already satisfied: pytz>=2017.2 in /usr/local/lib/python3.7/dist-packages (from pandas->tensorflow_decision_forests) (2018.9)\n",
            "Requirement already satisfied: setuptools in /usr/local/lib/python3.7/dist-packages (from protobuf>=3.9.2->tensorflow~=2.5->tensorflow_decision_forests) (56.1.0)\n",
            "Requirement already satisfied: cached-property; python_version < \"3.8\" in /usr/local/lib/python3.7/dist-packages (from h5py~=3.1.0->tensorflow~=2.5->tensorflow_decision_forests) (1.5.2)\n",
            "Requirement already satisfied: werkzeug>=0.11.15 in /usr/local/lib/python3.7/dist-packages (from tensorboard~=2.5->tensorflow~=2.5->tensorflow_decision_forests) (1.0.1)\n",
            "Requirement already satisfied: google-auth-oauthlib<0.5,>=0.4.1 in /usr/local/lib/python3.7/dist-packages (from tensorboard~=2.5->tensorflow~=2.5->tensorflow_decision_forests) (0.4.4)\n",
            "Requirement already satisfied: markdown>=2.6.8 in /usr/local/lib/python3.7/dist-packages (from tensorboard~=2.5->tensorflow~=2.5->tensorflow_decision_forests) (3.3.4)\n",
            "Requirement already satisfied: tensorboard-plugin-wit>=1.6.0 in /usr/local/lib/python3.7/dist-packages (from tensorboard~=2.5->tensorflow~=2.5->tensorflow_decision_forests) (1.8.0)\n",
            "Requirement already satisfied: google-auth<2,>=1.6.3 in /usr/local/lib/python3.7/dist-packages (from tensorboard~=2.5->tensorflow~=2.5->tensorflow_decision_forests) (1.30.0)\n",
            "Requirement already satisfied: tensorboard-data-server<0.7.0,>=0.6.0 in /usr/local/lib/python3.7/dist-packages (from tensorboard~=2.5->tensorflow~=2.5->tensorflow_decision_forests) (0.6.1)\n",
            "Requirement already satisfied: requests<3,>=2.21.0 in /usr/local/lib/python3.7/dist-packages (from tensorboard~=2.5->tensorflow~=2.5->tensorflow_decision_forests) (2.23.0)\n",
            "Requirement already satisfied: requests-oauthlib>=0.7.0 in /usr/local/lib/python3.7/dist-packages (from google-auth-oauthlib<0.5,>=0.4.1->tensorboard~=2.5->tensorflow~=2.5->tensorflow_decision_forests) (1.3.0)\n",
            "Requirement already satisfied: importlib-metadata; python_version < \"3.8\" in /usr/local/lib/python3.7/dist-packages (from markdown>=2.6.8->tensorboard~=2.5->tensorflow~=2.5->tensorflow_decision_forests) (4.0.1)\n",
            "Requirement already satisfied: rsa<5,>=3.1.4; python_version >= \"3.6\" in /usr/local/lib/python3.7/dist-packages (from google-auth<2,>=1.6.3->tensorboard~=2.5->tensorflow~=2.5->tensorflow_decision_forests) (4.7.2)\n",
            "Requirement already satisfied: pyasn1-modules>=0.2.1 in /usr/local/lib/python3.7/dist-packages (from google-auth<2,>=1.6.3->tensorboard~=2.5->tensorflow~=2.5->tensorflow_decision_forests) (0.2.8)\n",
            "Requirement already satisfied: cachetools<5.0,>=2.0.0 in /usr/local/lib/python3.7/dist-packages (from google-auth<2,>=1.6.3->tensorboard~=2.5->tensorflow~=2.5->tensorflow_decision_forests) (4.2.2)\n",
            "Requirement already satisfied: idna<3,>=2.5 in /usr/local/lib/python3.7/dist-packages (from requests<3,>=2.21.0->tensorboard~=2.5->tensorflow~=2.5->tensorflow_decision_forests) (2.10)\n",
            "Requirement already satisfied: certifi>=2017.4.17 in /usr/local/lib/python3.7/dist-packages (from requests<3,>=2.21.0->tensorboard~=2.5->tensorflow~=2.5->tensorflow_decision_forests) (2020.12.5)\n",
            "Requirement already satisfied: chardet<4,>=3.0.2 in /usr/local/lib/python3.7/dist-packages (from requests<3,>=2.21.0->tensorboard~=2.5->tensorflow~=2.5->tensorflow_decision_forests) (3.0.4)\n",
            "Requirement already satisfied: urllib3!=1.25.0,!=1.25.1,<1.26,>=1.21.1 in /usr/local/lib/python3.7/dist-packages (from requests<3,>=2.21.0->tensorboard~=2.5->tensorflow~=2.5->tensorflow_decision_forests) (1.24.3)\n",
            "Requirement already satisfied: oauthlib>=3.0.0 in /usr/local/lib/python3.7/dist-packages (from requests-oauthlib>=0.7.0->google-auth-oauthlib<0.5,>=0.4.1->tensorboard~=2.5->tensorflow~=2.5->tensorflow_decision_forests) (3.1.0)\n",
            "Requirement already satisfied: zipp>=0.5 in /usr/local/lib/python3.7/dist-packages (from importlib-metadata; python_version < \"3.8\"->markdown>=2.6.8->tensorboard~=2.5->tensorflow~=2.5->tensorflow_decision_forests) (3.4.1)\n",
            "Requirement already satisfied: pyasn1>=0.1.3 in /usr/local/lib/python3.7/dist-packages (from rsa<5,>=3.1.4; python_version >= \"3.6\"->google-auth<2,>=1.6.3->tensorboard~=2.5->tensorflow~=2.5->tensorflow_decision_forests) (0.4.8)\n",
            "4575/4575 [==============================] - 8s 874us/step\n"
          ],
          "name": "stdout"
        }
      ]
    },
    {
      "cell_type": "code",
      "metadata": {
        "colab": {
          "base_uri": "https://localhost:8080/",
          "height": 282
        },
        "id": "s1xU3KWHqL_m",
        "outputId": "138b84db-26ab-4944-b465-aadb38618ae3"
      },
      "source": [
        "plt.plot(history.history['categorical_accuracy'])"
      ],
      "execution_count": null,
      "outputs": [
        {
          "output_type": "execute_result",
          "data": {
            "text/plain": [
              "[<matplotlib.lines.Line2D at 0x7fe6240b5410>]"
            ]
          },
          "metadata": {
            "tags": []
          },
          "execution_count": 167
        },
        {
          "output_type": "display_data",
          "data": {
            "image/png": "[encoded data removed]",
            "text/plain": [
              "<Figure size 432x288 with 1 Axes>"
            ]
          },
          "metadata": {
            "tags": [],
            "needs_background": "light"
          }
        }
      ]
    },
    {
      "cell_type": "code",
      "metadata": {
        "colab": {
          "base_uri": "https://localhost:8080/",
          "height": 293
        },
        "id": "JcqPwRVfrDuz",
        "outputId": "ea195159-1b97-40e2-85e6-24269947618f"
      },
      "source": [
        "plt.plot(history.history['loss'])"
      ],
      "execution_count": null,
      "outputs": [
        {
          "output_type": "execute_result",
          "data": {
            "text/plain": [
              "[<matplotlib.lines.Line2D at 0x7fe624229650>]"
            ]
          },
          "metadata": {
            "tags": []
          },
          "execution_count": 168
        },
        {
          "output_type": "display_data",
          "data": {
            "image/png": "[encoded data removed]",
            "text/plain": [
              "<Figure size 432x288 with 1 Axes>"
            ]
          },
          "metadata": {
            "tags": [],
            "needs_background": "light"
          }
        }
      ]
    }
  ]
}