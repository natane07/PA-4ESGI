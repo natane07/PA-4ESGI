{
  "nbformat": 4,
  "nbformat_minor": 0,
  "metadata": {
    "colab": {
      "name": "PA-4ESGI.ipynb",
      "provenance": [],
      "collapsed_sections": []
    },
    "kernelspec": {
      "name": "python3",
      "display_name": "Python 3"
    },
    "language_info": {
      "name": "python"
    }
  },
  "cells": [
    {
      "cell_type": "markdown",
      "metadata": {
        "id": "yk0wAkHLckLa"
      },
      "source": [
        "# Data clean - preparation - MyImmo"
      ]
    },
    {
      "cell_type": "code",
      "metadata": {
        "colab": {
          "base_uri": "https://localhost:8080/"
        },
        "id": "T03OS2hHhOdB",
        "outputId": "cf24eeae-f156-415e-8e27-52cdfae69fa3"
      },
      "source": [
        "from google.colab import drive\n",
        "drive.mount('/content/drive')"
      ],
      "execution_count": 1,
      "outputs": [
        {
          "output_type": "stream",
          "text": [
            "Mounted at /content/drive\n"
          ],
          "name": "stdout"
        }
      ]
    },
    {
      "cell_type": "markdown",
      "metadata": {
        "id": "mhJV4wTJclWd"
      },
      "source": [
        "### Téléchargement des fichiers csv"
      ]
    },
    {
      "cell_type": "code",
      "metadata": {
        "id": "EzD7z2AJVxS2"
      },
      "source": [
        "import urllib.request\n",
        "def download_files_etalab():\n",
        "  years_files = ['2014', '2015', '2016', '2017', '2018', '2019', '2020']\n",
        "  for year in years_files:\n",
        "    url_files = \"https://cadastre.data.gouv.fr/data/etalab-dvf/latest/csv/\" + year + \"/full.csv.gz\"\n",
        "    name_file = \"full-\" + year +\".csv.gz\"\n",
        "    path_file = '/home/' + name_file\n",
        "    urllib.request.urlretrieve(url_files, path_file)"
      ],
      "execution_count": 2,
      "outputs": []
    },
    {
      "cell_type": "code",
      "metadata": {
        "id": "GzFAMRwP02tn"
      },
      "source": [
        "download_files_etalab()"
      ],
      "execution_count": 3,
      "outputs": []
    },
    {
      "cell_type": "markdown",
      "metadata": {
        "id": "I_RSilxahbxb"
      },
      "source": [
        "### Traitement sur les données"
      ]
    },
    {
      "cell_type": "code",
      "metadata": {
        "id": "lRI70WVNnJXM"
      },
      "source": [
        "import pandas as pd\n",
        "import os"
      ],
      "execution_count": 4,
      "outputs": []
    },
    {
      "cell_type": "markdown",
      "metadata": {
        "id": "GHmvpGiYnA3U"
      },
      "source": [
        "Import des fichiers"
      ]
    },
    {
      "cell_type": "code",
      "metadata": {
        "id": "9iPF5Xd8WheB"
      },
      "source": [
        "def import_files_in_dict(year):\n",
        "  path_file = '/home/full-' + year + '.csv.gz'\n",
        "  df = pd.read_csv(path_file, compression='gzip')\n",
        "  return df"
      ],
      "execution_count": 5,
      "outputs": []
    },
    {
      "cell_type": "markdown",
      "metadata": {
        "id": "wgRkYw87ETIn"
      },
      "source": [
        "Clean data"
      ]
    },
    {
      "cell_type": "code",
      "metadata": {
        "id": "IyuqYJnA0b4V"
      },
      "source": [
        "def clean_data(df):\n",
        "  df = df[ (df['nature_mutation'] == 'Vente') | (df['nature_mutation'] == \"Vente en l'état futur d'achèvement\")]\n",
        "  df = df[ (df['valeur_fonciere'].notna()) & (df['valeur_fonciere'] != 0)]\n",
        "  df = df[ (df['surface_reelle_bati'].notna()) & (df['surface_reelle_bati'] != 0)]\n",
        "  df = df[ (df['longitude'].notna())]\n",
        "  df = df[ (df['latitude'].notna()) ]\n",
        "  df = df[ (df['nombre_lots'] == 0) ]\n",
        "  df = df[ (df['code_departement'].notna()) ]\n",
        "  return df"
      ],
      "execution_count": 6,
      "outputs": []
    },
    {
      "cell_type": "markdown",
      "metadata": {
        "id": "P82DT3nfGNk2"
      },
      "source": [
        "Traitement sur les données\n"
      ]
    },
    {
      "cell_type": "code",
      "metadata": {
        "id": "LwZbTJ7bibLj"
      },
      "source": [
        "file_regions = \"/content/drive/MyDrive/departments.csv\"\n",
        "regions = pd.read_csv(file_regions)"
      ],
      "execution_count": 7,
      "outputs": []
    },
    {
      "cell_type": "code",
      "metadata": {
        "colab": {
          "base_uri": "https://localhost:8080/",
          "height": 728
        },
        "id": "xeTiyqdqoME9",
        "outputId": "107d26c9-7f5b-4aeb-c508-882c464cdeb2"
      },
      "source": [
        "output_data = ['id_mutation', 'date_mutation', 'nature_mutation',\n",
        "               'valeur_fonciere', 'code_postal', 'code_commune', 'code_region',\n",
        "               'code_departement', 'code_type_local', 'type_local',\n",
        "               'surface_reelle_bati', 'nombre_pieces_principales', 'latitude', 'longitude']\n",
        "years_files = ['2015', '2016', '2017', '2018', '2019', '2020']\n",
        "\n",
        "df_immo = [] \n",
        "for year in years_files:\n",
        "  df = import_files_in_dict(year)\n",
        "  df[\"code_departement\"] = df[\"code_departement\"].astype(str)\n",
        "  df[\"code_departement\"] = df[\"code_departement\"].apply(lambda x: '0' + x if len(x)==1 else x)\n",
        "  df = pd.merge(df, regions, how='left', left_on='code_departement', right_on='code')\n",
        "  df[\"code_region\"] = df[\"region_code\"]\n",
        "  df_clean = clean_data(df)\n",
        "  df_clean = df_clean[output_data]\n",
        "  df_clean[\"prix_metre_carre\"] = (df_clean['valeur_fonciere']/df_clean['surface_reelle_bati']).apply(lambda x: round(x))\n",
        "  df_clean = df_clean.sort_values(['code_region', 'latitude','longitude'])\n",
        "  if len(df_immo) == 0:\n",
        "    df_immo = df_clean\n",
        "  else:\n",
        "    df_immo = pd.concat([df_immo, df_clean])\n",
        "df_immo"
      ],
      "execution_count": 8,
      "outputs": [
        {
          "output_type": "stream",
          "text": [
            "/usr/local/lib/python3.7/dist-packages/IPython/core/interactiveshell.py:2822: DtypeWarning: Columns (10,12,14,16,17,18,20,22,24,35,36) have mixed types.Specify dtype option on import or set low_memory=False.\n",
            "  if self.run_code(code, result):\n",
            "/usr/local/lib/python3.7/dist-packages/IPython/core/interactiveshell.py:2822: DtypeWarning: Columns (10,12,14,16,17,18,20,22,24,26,35,36) have mixed types.Specify dtype option on import or set low_memory=False.\n",
            "  if self.run_code(code, result):\n",
            "/usr/local/lib/python3.7/dist-packages/IPython/core/interactiveshell.py:2822: DtypeWarning: Columns (10,12,14,16,17,18,20,22,35,36) have mixed types.Specify dtype option on import or set low_memory=False.\n",
            "  if self.run_code(code, result):\n",
            "/usr/local/lib/python3.7/dist-packages/IPython/core/interactiveshell.py:2822: DtypeWarning: Columns (10,12,14,16,17,18,20,22,26,35,36) have mixed types.Specify dtype option on import or set low_memory=False.\n",
            "  if self.run_code(code, result):\n",
            "/usr/local/lib/python3.7/dist-packages/IPython/core/interactiveshell.py:2822: DtypeWarning: Columns (10,12,14,16,17,18,20,22,35,36) have mixed types.Specify dtype option on import or set low_memory=False.\n",
            "  if self.run_code(code, result):\n",
            "/usr/local/lib/python3.7/dist-packages/IPython/core/interactiveshell.py:2822: DtypeWarning: Columns (8,10,12,14,16,17,18,20,22,35,36) have mixed types.Specify dtype option on import or set low_memory=False.\n",
            "  if self.run_code(code, result):\n"
          ],
          "name": "stderr"
        },
        {
          "output_type": "execute_result",
          "data": {
            "text/html": [
              "<div>\n",
              "<style scoped>\n",
              "    .dataframe tbody tr th:only-of-type {\n",
              "        vertical-align: middle;\n",
              "    }\n",
              "\n",
              "    .dataframe tbody tr th {\n",
              "        vertical-align: top;\n",
              "    }\n",
              "\n",
              "    .dataframe thead th {\n",
              "        text-align: right;\n",
              "    }\n",
              "</style>\n",
              "<table border=\"1\" class=\"dataframe\">\n",
              "  <thead>\n",
              "    <tr style=\"text-align: right;\">\n",
              "      <th></th>\n",
              "      <th>id_mutation</th>\n",
              "      <th>date_mutation</th>\n",
              "      <th>nature_mutation</th>\n",
              "      <th>valeur_fonciere</th>\n",
              "      <th>code_postal</th>\n",
              "      <th>code_commune</th>\n",
              "      <th>code_region</th>\n",
              "      <th>code_departement</th>\n",
              "      <th>code_type_local</th>\n",
              "      <th>type_local</th>\n",
              "      <th>surface_reelle_bati</th>\n",
              "      <th>nombre_pieces_principales</th>\n",
              "      <th>latitude</th>\n",
              "      <th>longitude</th>\n",
              "      <th>prix_metre_carre</th>\n",
              "    </tr>\n",
              "  </thead>\n",
              "  <tbody>\n",
              "    <tr>\n",
              "      <th>2663480</th>\n",
              "      <td>2015-1131554</td>\n",
              "      <td>2015-06-25</td>\n",
              "      <td>Vente</td>\n",
              "      <td>1860.0</td>\n",
              "      <td>97136.0</td>\n",
              "      <td>97130</td>\n",
              "      <td>01</td>\n",
              "      <td>971</td>\n",
              "      <td>1.0</td>\n",
              "      <td>Maison</td>\n",
              "      <td>90.0</td>\n",
              "      <td>4.0</td>\n",
              "      <td>15.848188</td>\n",
              "      <td>-61.644636</td>\n",
              "      <td>21</td>\n",
              "    </tr>\n",
              "    <tr>\n",
              "      <th>2663556</th>\n",
              "      <td>2015-1131605</td>\n",
              "      <td>2015-07-08</td>\n",
              "      <td>Vente</td>\n",
              "      <td>1570.0</td>\n",
              "      <td>97136.0</td>\n",
              "      <td>97130</td>\n",
              "      <td>01</td>\n",
              "      <td>971</td>\n",
              "      <td>1.0</td>\n",
              "      <td>Maison</td>\n",
              "      <td>98.0</td>\n",
              "      <td>4.0</td>\n",
              "      <td>15.848572</td>\n",
              "      <td>-61.644027</td>\n",
              "      <td>16</td>\n",
              "    </tr>\n",
              "    <tr>\n",
              "      <th>2663557</th>\n",
              "      <td>2015-1131605</td>\n",
              "      <td>2015-07-08</td>\n",
              "      <td>Vente</td>\n",
              "      <td>1570.0</td>\n",
              "      <td>97136.0</td>\n",
              "      <td>97130</td>\n",
              "      <td>01</td>\n",
              "      <td>971</td>\n",
              "      <td>2.0</td>\n",
              "      <td>Appartement</td>\n",
              "      <td>37.0</td>\n",
              "      <td>2.0</td>\n",
              "      <td>15.848572</td>\n",
              "      <td>-61.644027</td>\n",
              "      <td>42</td>\n",
              "    </tr>\n",
              "    <tr>\n",
              "      <th>2664470</th>\n",
              "      <td>2015-1132114</td>\n",
              "      <td>2015-12-23</td>\n",
              "      <td>Vente</td>\n",
              "      <td>1450.0</td>\n",
              "      <td>97136.0</td>\n",
              "      <td>97130</td>\n",
              "      <td>01</td>\n",
              "      <td>971</td>\n",
              "      <td>1.0</td>\n",
              "      <td>Maison</td>\n",
              "      <td>148.0</td>\n",
              "      <td>5.0</td>\n",
              "      <td>15.848833</td>\n",
              "      <td>-61.643867</td>\n",
              "      <td>10</td>\n",
              "    </tr>\n",
              "    <tr>\n",
              "      <th>2663237</th>\n",
              "      <td>2015-1131405</td>\n",
              "      <td>2015-04-09</td>\n",
              "      <td>Vente</td>\n",
              "      <td>720000.0</td>\n",
              "      <td>97137.0</td>\n",
              "      <td>97131</td>\n",
              "      <td>01</td>\n",
              "      <td>971</td>\n",
              "      <td>1.0</td>\n",
              "      <td>Maison</td>\n",
              "      <td>88.0</td>\n",
              "      <td>3.0</td>\n",
              "      <td>15.862501</td>\n",
              "      <td>-61.597274</td>\n",
              "      <td>8182</td>\n",
              "    </tr>\n",
              "    <tr>\n",
              "      <th>...</th>\n",
              "      <td>...</td>\n",
              "      <td>...</td>\n",
              "      <td>...</td>\n",
              "      <td>...</td>\n",
              "      <td>...</td>\n",
              "      <td>...</td>\n",
              "      <td>...</td>\n",
              "      <td>...</td>\n",
              "      <td>...</td>\n",
              "      <td>...</td>\n",
              "      <td>...</td>\n",
              "      <td>...</td>\n",
              "      <td>...</td>\n",
              "      <td>...</td>\n",
              "      <td>...</td>\n",
              "    </tr>\n",
              "    <tr>\n",
              "      <th>558874</th>\n",
              "      <td>2020-227595</td>\n",
              "      <td>2020-12-31</td>\n",
              "      <td>Vente</td>\n",
              "      <td>375000.0</td>\n",
              "      <td>20600.0</td>\n",
              "      <td>2B120</td>\n",
              "      <td>94</td>\n",
              "      <td>2B</td>\n",
              "      <td>1.0</td>\n",
              "      <td>Maison</td>\n",
              "      <td>138.0</td>\n",
              "      <td>5.0</td>\n",
              "      <td>42.649121</td>\n",
              "      <td>9.443310</td>\n",
              "      <td>2717</td>\n",
              "    </tr>\n",
              "    <tr>\n",
              "      <th>558800</th>\n",
              "      <td>2020-227568</td>\n",
              "      <td>2020-11-16</td>\n",
              "      <td>Vente</td>\n",
              "      <td>180000.0</td>\n",
              "      <td>20200.0</td>\n",
              "      <td>2B353</td>\n",
              "      <td>94</td>\n",
              "      <td>2B</td>\n",
              "      <td>1.0</td>\n",
              "      <td>Maison</td>\n",
              "      <td>104.0</td>\n",
              "      <td>3.0</td>\n",
              "      <td>42.714854</td>\n",
              "      <td>9.427883</td>\n",
              "      <td>1731</td>\n",
              "    </tr>\n",
              "    <tr>\n",
              "      <th>558817</th>\n",
              "      <td>2020-227575</td>\n",
              "      <td>2020-12-17</td>\n",
              "      <td>Vente</td>\n",
              "      <td>123500.0</td>\n",
              "      <td>20200.0</td>\n",
              "      <td>2B305</td>\n",
              "      <td>94</td>\n",
              "      <td>2B</td>\n",
              "      <td>1.0</td>\n",
              "      <td>Maison</td>\n",
              "      <td>33.0</td>\n",
              "      <td>1.0</td>\n",
              "      <td>42.733560</td>\n",
              "      <td>9.460780</td>\n",
              "      <td>3742</td>\n",
              "    </tr>\n",
              "    <tr>\n",
              "      <th>558794</th>\n",
              "      <td>2020-227564</td>\n",
              "      <td>2020-10-14</td>\n",
              "      <td>Vente</td>\n",
              "      <td>265000.0</td>\n",
              "      <td>20233.0</td>\n",
              "      <td>2B224</td>\n",
              "      <td>94</td>\n",
              "      <td>2B</td>\n",
              "      <td>1.0</td>\n",
              "      <td>Maison</td>\n",
              "      <td>82.0</td>\n",
              "      <td>4.0</td>\n",
              "      <td>42.840266</td>\n",
              "      <td>9.456825</td>\n",
              "      <td>3232</td>\n",
              "    </tr>\n",
              "    <tr>\n",
              "      <th>558517</th>\n",
              "      <td>2020-227555</td>\n",
              "      <td>2020-06-19</td>\n",
              "      <td>Vente</td>\n",
              "      <td>135000.0</td>\n",
              "      <td>20247.0</td>\n",
              "      <td>2B261</td>\n",
              "      <td>94</td>\n",
              "      <td>2B</td>\n",
              "      <td>1.0</td>\n",
              "      <td>Maison</td>\n",
              "      <td>84.0</td>\n",
              "      <td>3.0</td>\n",
              "      <td>42.958421</td>\n",
              "      <td>9.452980</td>\n",
              "      <td>1607</td>\n",
              "    </tr>\n",
              "  </tbody>\n",
              "</table>\n",
              "<p>4321523 rows × 15 columns</p>\n",
              "</div>"
            ],
            "text/plain": [
              "          id_mutation date_mutation  ...  longitude  prix_metre_carre\n",
              "2663480  2015-1131554    2015-06-25  ... -61.644636                21\n",
              "2663556  2015-1131605    2015-07-08  ... -61.644027                16\n",
              "2663557  2015-1131605    2015-07-08  ... -61.644027                42\n",
              "2664470  2015-1132114    2015-12-23  ... -61.643867                10\n",
              "2663237  2015-1131405    2015-04-09  ... -61.597274              8182\n",
              "...               ...           ...  ...        ...               ...\n",
              "558874    2020-227595    2020-12-31  ...   9.443310              2717\n",
              "558800    2020-227568    2020-11-16  ...   9.427883              1731\n",
              "558817    2020-227575    2020-12-17  ...   9.460780              3742\n",
              "558794    2020-227564    2020-10-14  ...   9.456825              3232\n",
              "558517    2020-227555    2020-06-19  ...   9.452980              1607\n",
              "\n",
              "[4321523 rows x 15 columns]"
            ]
          },
          "metadata": {
            "tags": []
          },
          "execution_count": 8
        }
      ]
    },
    {
      "cell_type": "markdown",
      "metadata": {
        "id": "U8zehYj751Sb"
      },
      "source": [
        "Sauvegarde du fichier clean et preparer"
      ]
    },
    {
      "cell_type": "code",
      "metadata": {
        "id": "Bz6cHhu5Xoq5"
      },
      "source": [
        "save_file_path = \"/content/drive/MyDrive/dataset-myimmo.csv\"\n",
        "df_immo.to_csv(path_or_buf=save_file_path,index=False,header=True)"
      ],
      "execution_count": 9,
      "outputs": []
    },
    {
      "cell_type": "markdown",
      "metadata": {
        "id": "SnvJKBXe80x-"
      },
      "source": [
        "Modele BallTree - prix moyen du voisinage"
      ]
    },
    {
      "cell_type": "code",
      "metadata": {
        "colab": {
          "base_uri": "https://localhost:8080/",
          "height": 204
        },
        "id": "XfCiinOj81ND",
        "outputId": "c26b488b-5c2e-4ba9-9741-5dea3403db06"
      },
      "source": [
        "pd.pivot_table(df_immo, values='valeur_fonciere', index=['type_local'],columns=['nature_mutation'], aggfunc=lambda x: len(x))"
      ],
      "execution_count": 10,
      "outputs": [
        {
          "output_type": "execute_result",
          "data": {
            "text/html": [
              "<div>\n",
              "<style scoped>\n",
              "    .dataframe tbody tr th:only-of-type {\n",
              "        vertical-align: middle;\n",
              "    }\n",
              "\n",
              "    .dataframe tbody tr th {\n",
              "        vertical-align: top;\n",
              "    }\n",
              "\n",
              "    .dataframe thead th {\n",
              "        text-align: right;\n",
              "    }\n",
              "</style>\n",
              "<table border=\"1\" class=\"dataframe\">\n",
              "  <thead>\n",
              "    <tr style=\"text-align: right;\">\n",
              "      <th>nature_mutation</th>\n",
              "      <th>Vente</th>\n",
              "      <th>Vente en l'état futur d'achèvement</th>\n",
              "    </tr>\n",
              "    <tr>\n",
              "      <th>type_local</th>\n",
              "      <th></th>\n",
              "      <th></th>\n",
              "    </tr>\n",
              "  </thead>\n",
              "  <tbody>\n",
              "    <tr>\n",
              "      <th>Appartement</th>\n",
              "      <td>654187.0</td>\n",
              "      <td>1452.0</td>\n",
              "    </tr>\n",
              "    <tr>\n",
              "      <th>Dépendance</th>\n",
              "      <td>107.0</td>\n",
              "      <td>7.0</td>\n",
              "    </tr>\n",
              "    <tr>\n",
              "      <th>Local industriel. commercial ou assimilé</th>\n",
              "      <td>299832.0</td>\n",
              "      <td>818.0</td>\n",
              "    </tr>\n",
              "    <tr>\n",
              "      <th>Maison</th>\n",
              "      <td>3361044.0</td>\n",
              "      <td>4076.0</td>\n",
              "    </tr>\n",
              "  </tbody>\n",
              "</table>\n",
              "</div>"
            ],
            "text/plain": [
              "nature_mutation                               Vente  Vente en l'état futur d'achèvement\n",
              "type_local                                                                             \n",
              "Appartement                                654187.0                              1452.0\n",
              "Dépendance                                    107.0                                 7.0\n",
              "Local industriel. commercial ou assimilé   299832.0                               818.0\n",
              "Maison                                    3361044.0                              4076.0"
            ]
          },
          "metadata": {
            "tags": []
          },
          "execution_count": 10
        }
      ]
    },
    {
      "cell_type": "markdown",
      "metadata": {
        "id": "OD_KFsOqwH56"
      },
      "source": [
        "On creer un ensemble de modele pour les appartements et les maison "
      ]
    },
    {
      "cell_type": "code",
      "metadata": {
        "colab": {
          "base_uri": "https://localhost:8080/",
          "height": 524
        },
        "id": "3K43wRAfwGBk",
        "outputId": "b69263db-9c58-4b43-92b3-259705053920"
      },
      "source": [
        "# Appartement\n",
        "df_immo_appart = df_immo[ (df_immo[\"nature_mutation\"]==\"Vente\") & (df_immo[\"type_local\"]==\"Appartement\") ]\n",
        "# Maison\n",
        "df_immo_maison = df_immo[ (df_immo[\"nature_mutation\"]==\"Vente\") & (df_immo[\"type_local\"]==\"Maison\") ]\n",
        "df_immo_maison"
      ],
      "execution_count": 31,
      "outputs": [
        {
          "output_type": "execute_result",
          "data": {
            "text/html": [
              "<div>\n",
              "<style scoped>\n",
              "    .dataframe tbody tr th:only-of-type {\n",
              "        vertical-align: middle;\n",
              "    }\n",
              "\n",
              "    .dataframe tbody tr th {\n",
              "        vertical-align: top;\n",
              "    }\n",
              "\n",
              "    .dataframe thead th {\n",
              "        text-align: right;\n",
              "    }\n",
              "</style>\n",
              "<table border=\"1\" class=\"dataframe\">\n",
              "  <thead>\n",
              "    <tr style=\"text-align: right;\">\n",
              "      <th></th>\n",
              "      <th>id_mutation</th>\n",
              "      <th>date_mutation</th>\n",
              "      <th>nature_mutation</th>\n",
              "      <th>valeur_fonciere</th>\n",
              "      <th>code_postal</th>\n",
              "      <th>code_commune</th>\n",
              "      <th>code_region</th>\n",
              "      <th>code_departement</th>\n",
              "      <th>code_type_local</th>\n",
              "      <th>type_local</th>\n",
              "      <th>surface_reelle_bati</th>\n",
              "      <th>nombre_pieces_principales</th>\n",
              "      <th>latitude</th>\n",
              "      <th>longitude</th>\n",
              "      <th>prix_metre_carre</th>\n",
              "    </tr>\n",
              "  </thead>\n",
              "  <tbody>\n",
              "    <tr>\n",
              "      <th>2663480</th>\n",
              "      <td>2015-1131554</td>\n",
              "      <td>2015-06-25</td>\n",
              "      <td>Vente</td>\n",
              "      <td>1860.00</td>\n",
              "      <td>97136.0</td>\n",
              "      <td>97130</td>\n",
              "      <td>01</td>\n",
              "      <td>971</td>\n",
              "      <td>1.0</td>\n",
              "      <td>Maison</td>\n",
              "      <td>90.0</td>\n",
              "      <td>4.0</td>\n",
              "      <td>15.848188</td>\n",
              "      <td>-61.644636</td>\n",
              "      <td>21</td>\n",
              "    </tr>\n",
              "    <tr>\n",
              "      <th>2663556</th>\n",
              "      <td>2015-1131605</td>\n",
              "      <td>2015-07-08</td>\n",
              "      <td>Vente</td>\n",
              "      <td>1570.00</td>\n",
              "      <td>97136.0</td>\n",
              "      <td>97130</td>\n",
              "      <td>01</td>\n",
              "      <td>971</td>\n",
              "      <td>1.0</td>\n",
              "      <td>Maison</td>\n",
              "      <td>98.0</td>\n",
              "      <td>4.0</td>\n",
              "      <td>15.848572</td>\n",
              "      <td>-61.644027</td>\n",
              "      <td>16</td>\n",
              "    </tr>\n",
              "    <tr>\n",
              "      <th>2664470</th>\n",
              "      <td>2015-1132114</td>\n",
              "      <td>2015-12-23</td>\n",
              "      <td>Vente</td>\n",
              "      <td>1450.00</td>\n",
              "      <td>97136.0</td>\n",
              "      <td>97130</td>\n",
              "      <td>01</td>\n",
              "      <td>971</td>\n",
              "      <td>1.0</td>\n",
              "      <td>Maison</td>\n",
              "      <td>148.0</td>\n",
              "      <td>5.0</td>\n",
              "      <td>15.848833</td>\n",
              "      <td>-61.643867</td>\n",
              "      <td>10</td>\n",
              "    </tr>\n",
              "    <tr>\n",
              "      <th>2663237</th>\n",
              "      <td>2015-1131405</td>\n",
              "      <td>2015-04-09</td>\n",
              "      <td>Vente</td>\n",
              "      <td>720000.00</td>\n",
              "      <td>97137.0</td>\n",
              "      <td>97131</td>\n",
              "      <td>01</td>\n",
              "      <td>971</td>\n",
              "      <td>1.0</td>\n",
              "      <td>Maison</td>\n",
              "      <td>88.0</td>\n",
              "      <td>3.0</td>\n",
              "      <td>15.862501</td>\n",
              "      <td>-61.597274</td>\n",
              "      <td>8182</td>\n",
              "    </tr>\n",
              "    <tr>\n",
              "      <th>2664469</th>\n",
              "      <td>2015-1132113</td>\n",
              "      <td>2015-12-30</td>\n",
              "      <td>Vente</td>\n",
              "      <td>10671.43</td>\n",
              "      <td>97137.0</td>\n",
              "      <td>97131</td>\n",
              "      <td>01</td>\n",
              "      <td>971</td>\n",
              "      <td>1.0</td>\n",
              "      <td>Maison</td>\n",
              "      <td>38.0</td>\n",
              "      <td>3.0</td>\n",
              "      <td>15.862801</td>\n",
              "      <td>-61.586874</td>\n",
              "      <td>281</td>\n",
              "    </tr>\n",
              "    <tr>\n",
              "      <th>...</th>\n",
              "      <td>...</td>\n",
              "      <td>...</td>\n",
              "      <td>...</td>\n",
              "      <td>...</td>\n",
              "      <td>...</td>\n",
              "      <td>...</td>\n",
              "      <td>...</td>\n",
              "      <td>...</td>\n",
              "      <td>...</td>\n",
              "      <td>...</td>\n",
              "      <td>...</td>\n",
              "      <td>...</td>\n",
              "      <td>...</td>\n",
              "      <td>...</td>\n",
              "      <td>...</td>\n",
              "    </tr>\n",
              "    <tr>\n",
              "      <th>558874</th>\n",
              "      <td>2020-227595</td>\n",
              "      <td>2020-12-31</td>\n",
              "      <td>Vente</td>\n",
              "      <td>375000.00</td>\n",
              "      <td>20600.0</td>\n",
              "      <td>2B120</td>\n",
              "      <td>94</td>\n",
              "      <td>2B</td>\n",
              "      <td>1.0</td>\n",
              "      <td>Maison</td>\n",
              "      <td>138.0</td>\n",
              "      <td>5.0</td>\n",
              "      <td>42.649121</td>\n",
              "      <td>9.443310</td>\n",
              "      <td>2717</td>\n",
              "    </tr>\n",
              "    <tr>\n",
              "      <th>558800</th>\n",
              "      <td>2020-227568</td>\n",
              "      <td>2020-11-16</td>\n",
              "      <td>Vente</td>\n",
              "      <td>180000.00</td>\n",
              "      <td>20200.0</td>\n",
              "      <td>2B353</td>\n",
              "      <td>94</td>\n",
              "      <td>2B</td>\n",
              "      <td>1.0</td>\n",
              "      <td>Maison</td>\n",
              "      <td>104.0</td>\n",
              "      <td>3.0</td>\n",
              "      <td>42.714854</td>\n",
              "      <td>9.427883</td>\n",
              "      <td>1731</td>\n",
              "    </tr>\n",
              "    <tr>\n",
              "      <th>558817</th>\n",
              "      <td>2020-227575</td>\n",
              "      <td>2020-12-17</td>\n",
              "      <td>Vente</td>\n",
              "      <td>123500.00</td>\n",
              "      <td>20200.0</td>\n",
              "      <td>2B305</td>\n",
              "      <td>94</td>\n",
              "      <td>2B</td>\n",
              "      <td>1.0</td>\n",
              "      <td>Maison</td>\n",
              "      <td>33.0</td>\n",
              "      <td>1.0</td>\n",
              "      <td>42.733560</td>\n",
              "      <td>9.460780</td>\n",
              "      <td>3742</td>\n",
              "    </tr>\n",
              "    <tr>\n",
              "      <th>558794</th>\n",
              "      <td>2020-227564</td>\n",
              "      <td>2020-10-14</td>\n",
              "      <td>Vente</td>\n",
              "      <td>265000.00</td>\n",
              "      <td>20233.0</td>\n",
              "      <td>2B224</td>\n",
              "      <td>94</td>\n",
              "      <td>2B</td>\n",
              "      <td>1.0</td>\n",
              "      <td>Maison</td>\n",
              "      <td>82.0</td>\n",
              "      <td>4.0</td>\n",
              "      <td>42.840266</td>\n",
              "      <td>9.456825</td>\n",
              "      <td>3232</td>\n",
              "    </tr>\n",
              "    <tr>\n",
              "      <th>558517</th>\n",
              "      <td>2020-227555</td>\n",
              "      <td>2020-06-19</td>\n",
              "      <td>Vente</td>\n",
              "      <td>135000.00</td>\n",
              "      <td>20247.0</td>\n",
              "      <td>2B261</td>\n",
              "      <td>94</td>\n",
              "      <td>2B</td>\n",
              "      <td>1.0</td>\n",
              "      <td>Maison</td>\n",
              "      <td>84.0</td>\n",
              "      <td>3.0</td>\n",
              "      <td>42.958421</td>\n",
              "      <td>9.452980</td>\n",
              "      <td>1607</td>\n",
              "    </tr>\n",
              "  </tbody>\n",
              "</table>\n",
              "<p>3361044 rows × 15 columns</p>\n",
              "</div>"
            ],
            "text/plain": [
              "          id_mutation date_mutation  ...  longitude  prix_metre_carre\n",
              "2663480  2015-1131554    2015-06-25  ... -61.644636                21\n",
              "2663556  2015-1131605    2015-07-08  ... -61.644027                16\n",
              "2664470  2015-1132114    2015-12-23  ... -61.643867                10\n",
              "2663237  2015-1131405    2015-04-09  ... -61.597274              8182\n",
              "2664469  2015-1132113    2015-12-30  ... -61.586874               281\n",
              "...               ...           ...  ...        ...               ...\n",
              "558874    2020-227595    2020-12-31  ...   9.443310              2717\n",
              "558800    2020-227568    2020-11-16  ...   9.427883              1731\n",
              "558817    2020-227575    2020-12-17  ...   9.460780              3742\n",
              "558794    2020-227564    2020-10-14  ...   9.456825              3232\n",
              "558517    2020-227555    2020-06-19  ...   9.452980              1607\n",
              "\n",
              "[3361044 rows x 15 columns]"
            ]
          },
          "metadata": {
            "tags": []
          },
          "execution_count": 31
        }
      ]
    },
    {
      "cell_type": "markdown",
      "metadata": {
        "id": "aZWblmyiyJDY"
      },
      "source": [
        "Modele BallTree pour les appartements - 1 modéle par region"
      ]
    },
    {
      "cell_type": "code",
      "metadata": {
        "id": "okcQNbUGylu5"
      },
      "source": [
        "from sklearn.neighbors import BallTree\n",
        "import numpy as np\n",
        "import time"
      ],
      "execution_count": 28,
      "outputs": []
    },
    {
      "cell_type": "code",
      "metadata": {
        "id": "W4QJ4I-73hGt"
      },
      "source": [
        "def save_obj(obj,name):\n",
        "            with open( name + '.pkl', 'wb') as f:\n",
        "                pickle.dump(obj, f, pickle.HIGHEST_PROTOCOL)"
      ],
      "execution_count": 23,
      "outputs": []
    },
    {
      "cell_type": "code",
      "metadata": {
        "colab": {
          "base_uri": "https://localhost:8080/"
        },
        "id": "BdNUXMWkyiEu",
        "outputId": "a0f5d53a-851b-4fcd-d0f2-6d18fe7787e5"
      },
      "source": [
        "df_immo_appart['distance_moyenne']=np.zeros(len(df_immo_appart))\n",
        "df_immo_appart['index_voisins']=np.zeros(len(df_immo_appart))\n",
        "models = {}\n",
        "regions = df_immo_appart.code_region.unique()\n",
        "for k in range(len(regions)):\n",
        "    name = 'appart_' + regions[k]\n",
        "    data = df_immo_appart[df_immo_appart.code_region==regions[k]]\n",
        "    data = data.reset_index(drop=True)\n",
        "    models[k] = BallTree(data[['latitude', 'longitude']].values, leaf_size=2, metric='haversine')"
      ],
      "execution_count": 32,
      "outputs": [
        {
          "output_type": "stream",
          "text": [
            "/usr/local/lib/python3.7/dist-packages/ipykernel_launcher.py:1: SettingWithCopyWarning: \n",
            "A value is trying to be set on a copy of a slice from a DataFrame.\n",
            "Try using .loc[row_indexer,col_indexer] = value instead\n",
            "\n",
            "See the caveats in the documentation: https://pandas.pydata.org/pandas-docs/stable/user_guide/indexing.html#returning-a-view-versus-a-copy\n",
            "  \"\"\"Entry point for launching an IPython kernel.\n",
            "/usr/local/lib/python3.7/dist-packages/ipykernel_launcher.py:2: SettingWithCopyWarning: \n",
            "A value is trying to be set on a copy of a slice from a DataFrame.\n",
            "Try using .loc[row_indexer,col_indexer] = value instead\n",
            "\n",
            "See the caveats in the documentation: https://pandas.pydata.org/pandas-docs/stable/user_guide/indexing.html#returning-a-view-versus-a-copy\n",
            "  \n"
          ],
          "name": "stderr"
        }
      ]
    },
    {
      "cell_type": "code",
      "metadata": {
        "colab": {
          "base_uri": "https://localhost:8080/"
        },
        "id": "MpSDNqe_HkZu",
        "outputId": "cb497a99-58f7-41de-e8a5-657790a44252"
      },
      "source": [
        "for k in range(len(regions)):\n",
        "    start = time.time()\n",
        "    data = df_immo_appart[df_immo_appart.code_region==regions[k]]\n",
        "    data = data.reset_index(drop=True)\n",
        "    dist, indices = models[k].query(data[['latitude','longitude']].values,k=10)\n",
        "    data['distance_moyenne'] = np.mean(dist[:,1:]*6341,1)\n",
        "    a = pd.DataFrame()\n",
        "    a['prix_metre_carre'] = np.zeros(len(data))\n",
        "    for i in range(1,10):\n",
        "        a += pd.DataFrame(data.iloc[indices[:,i],:]['prix_metre_carre']).reset_index(drop=True)\n",
        "    a=a/10\n",
        "    data['prix_moyen_cartier'] = a.values\n",
        "    stop = time.time()\n",
        "    print(stop-start)\n",
        "    data.to_csv(\"/content/drive/MyDrive/data_pa/appart_region_\" + regions[k] +\".csv\", index=False, header=True)"
      ],
      "execution_count": 33,
      "outputs": [
        {
          "output_type": "stream",
          "text": [
            "0.28316569328308105\n",
            "0.7202389240264893\n",
            "0.49651455879211426\n",
            "0.8082408905029297\n",
            "143.52995109558105\n",
            "3.7611513137817383\n",
            "3.706237316131592\n",
            "5.784782409667969\n",
            "8.545553922653198\n",
            "7.297018766403198\n",
            "4.167701959609985\n",
            "5.06593656539917\n",
            "13.094555139541626\n",
            "10.877479314804077\n",
            "28.122822761535645\n",
            "9.212506294250488\n",
            "0.11952781677246094\n"
          ],
          "name": "stdout"
        }
      ]
    }
  ]
}